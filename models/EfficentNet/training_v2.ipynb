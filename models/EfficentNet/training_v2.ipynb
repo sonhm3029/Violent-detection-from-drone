{
 "cells": [
  {
   "attachments": {},
   "cell_type": "markdown",
   "metadata": {},
   "source": [
    "# Import packages"
   ]
  },
  {
   "cell_type": "code",
   "execution_count": 1,
   "metadata": {},
   "outputs": [
    {
     "name": "stderr",
     "output_type": "stream",
     "text": [
      "c:\\Users\\hoang\\AppData\\Local\\Programs\\Python\\Python39\\lib\\site-packages\\torchvision\\models\\_utils.py:208: UserWarning: The parameter 'pretrained' is deprecated since 0.13 and may be removed in the future, please use 'weights' instead.\n",
      "  warnings.warn(\n",
      "c:\\Users\\hoang\\AppData\\Local\\Programs\\Python\\Python39\\lib\\site-packages\\torchvision\\models\\_utils.py:223: UserWarning: Arguments other than a weight enum or `None` for 'weights' are deprecated since 0.13 and may be removed in the future. The current behavior is equivalent to passing `weights=EfficientNet_B0_Weights.IMAGENET1K_V1`. You can also use `weights=EfficientNet_B0_Weights.DEFAULT` to get the most up-to-date weights.\n",
      "  warnings.warn(msg)\n"
     ]
    },
    {
     "name": "stdout",
     "output_type": "stream",
     "text": [
      "Sequential(\n",
      "  (0): Dropout(p=0.2, inplace=True)\n",
      "  (1): Linear(in_features=1280, out_features=1000, bias=True)\n",
      ")\n"
     ]
    }
   ],
   "source": [
    "from model import *\n",
    "from torchsummary import summary\n",
    "from torchvision.models import efficientnet_b0\n",
    "from torch.utils.data import DataLoader\n",
    "from datasets import *\n",
    "from torch.optim import lr_scheduler\n",
    "from torchvision import transforms, datasets\n",
    "import time\n",
    "from torchvision.transforms import InterpolationMode"
   ]
  },
  {
   "attachments": {},
   "cell_type": "markdown",
   "metadata": {},
   "source": [
    "# Import model"
   ]
  },
  {
   "cell_type": "code",
   "execution_count": 2,
   "metadata": {},
   "outputs": [
    {
     "name": "stderr",
     "output_type": "stream",
     "text": [
      "c:\\Users\\hoang\\AppData\\Local\\Programs\\Python\\Python39\\lib\\site-packages\\torchvision\\models\\_utils.py:208: UserWarning: The parameter 'pretrained' is deprecated since 0.13 and may be removed in the future, please use 'weights' instead.\n",
      "  warnings.warn(\n",
      "c:\\Users\\hoang\\AppData\\Local\\Programs\\Python\\Python39\\lib\\site-packages\\torchvision\\models\\_utils.py:223: UserWarning: Arguments other than a weight enum or `None` for 'weights' are deprecated since 0.13 and may be removed in the future. The current behavior is equivalent to passing `weights=EfficientNet_B0_Weights.IMAGENET1K_V1`. You can also use `weights=EfficientNet_B0_Weights.DEFAULT` to get the most up-to-date weights.\n",
      "  warnings.warn(msg)\n"
     ]
    },
    {
     "name": "stdout",
     "output_type": "stream",
     "text": [
      "----------------------------------------------------------------\n",
      "        Layer (type)               Output Shape         Param #\n",
      "================================================================\n",
      "            Conv2d-1         [-1, 32, 112, 112]             864\n",
      "       BatchNorm2d-2         [-1, 32, 112, 112]              64\n",
      "              SiLU-3         [-1, 32, 112, 112]               0\n",
      "            Conv2d-4         [-1, 32, 112, 112]             288\n",
      "       BatchNorm2d-5         [-1, 32, 112, 112]              64\n",
      "              SiLU-6         [-1, 32, 112, 112]               0\n",
      " AdaptiveAvgPool2d-7             [-1, 32, 1, 1]               0\n",
      "            Conv2d-8              [-1, 8, 1, 1]             264\n",
      "              SiLU-9              [-1, 8, 1, 1]               0\n",
      "           Conv2d-10             [-1, 32, 1, 1]             288\n",
      "          Sigmoid-11             [-1, 32, 1, 1]               0\n",
      "SqueezeExcitation-12         [-1, 32, 112, 112]               0\n",
      "           Conv2d-13         [-1, 16, 112, 112]             512\n",
      "      BatchNorm2d-14         [-1, 16, 112, 112]              32\n",
      "           MBConv-15         [-1, 16, 112, 112]               0\n",
      "           Conv2d-16         [-1, 96, 112, 112]           1,536\n",
      "      BatchNorm2d-17         [-1, 96, 112, 112]             192\n",
      "             SiLU-18         [-1, 96, 112, 112]               0\n",
      "           Conv2d-19           [-1, 96, 56, 56]             864\n",
      "      BatchNorm2d-20           [-1, 96, 56, 56]             192\n",
      "             SiLU-21           [-1, 96, 56, 56]               0\n",
      "AdaptiveAvgPool2d-22             [-1, 96, 1, 1]               0\n",
      "           Conv2d-23              [-1, 4, 1, 1]             388\n",
      "             SiLU-24              [-1, 4, 1, 1]               0\n",
      "           Conv2d-25             [-1, 96, 1, 1]             480\n",
      "          Sigmoid-26             [-1, 96, 1, 1]               0\n",
      "SqueezeExcitation-27           [-1, 96, 56, 56]               0\n",
      "           Conv2d-28           [-1, 24, 56, 56]           2,304\n",
      "      BatchNorm2d-29           [-1, 24, 56, 56]              48\n",
      "           MBConv-30           [-1, 24, 56, 56]               0\n",
      "           Conv2d-31          [-1, 144, 56, 56]           3,456\n",
      "      BatchNorm2d-32          [-1, 144, 56, 56]             288\n",
      "             SiLU-33          [-1, 144, 56, 56]               0\n",
      "           Conv2d-34          [-1, 144, 56, 56]           1,296\n",
      "      BatchNorm2d-35          [-1, 144, 56, 56]             288\n",
      "             SiLU-36          [-1, 144, 56, 56]               0\n",
      "AdaptiveAvgPool2d-37            [-1, 144, 1, 1]               0\n",
      "           Conv2d-38              [-1, 6, 1, 1]             870\n",
      "             SiLU-39              [-1, 6, 1, 1]               0\n",
      "           Conv2d-40            [-1, 144, 1, 1]           1,008\n",
      "          Sigmoid-41            [-1, 144, 1, 1]               0\n",
      "SqueezeExcitation-42          [-1, 144, 56, 56]               0\n",
      "           Conv2d-43           [-1, 24, 56, 56]           3,456\n",
      "      BatchNorm2d-44           [-1, 24, 56, 56]              48\n",
      "  StochasticDepth-45           [-1, 24, 56, 56]               0\n",
      "           MBConv-46           [-1, 24, 56, 56]               0\n",
      "           Conv2d-47          [-1, 144, 56, 56]           3,456\n",
      "      BatchNorm2d-48          [-1, 144, 56, 56]             288\n",
      "             SiLU-49          [-1, 144, 56, 56]               0\n",
      "           Conv2d-50          [-1, 144, 28, 28]           3,600\n",
      "      BatchNorm2d-51          [-1, 144, 28, 28]             288\n",
      "             SiLU-52          [-1, 144, 28, 28]               0\n",
      "AdaptiveAvgPool2d-53            [-1, 144, 1, 1]               0\n",
      "           Conv2d-54              [-1, 6, 1, 1]             870\n",
      "             SiLU-55              [-1, 6, 1, 1]               0\n",
      "           Conv2d-56            [-1, 144, 1, 1]           1,008\n",
      "          Sigmoid-57            [-1, 144, 1, 1]               0\n",
      "SqueezeExcitation-58          [-1, 144, 28, 28]               0\n",
      "           Conv2d-59           [-1, 40, 28, 28]           5,760\n",
      "      BatchNorm2d-60           [-1, 40, 28, 28]              80\n",
      "           MBConv-61           [-1, 40, 28, 28]               0\n",
      "           Conv2d-62          [-1, 240, 28, 28]           9,600\n",
      "      BatchNorm2d-63          [-1, 240, 28, 28]             480\n",
      "             SiLU-64          [-1, 240, 28, 28]               0\n",
      "           Conv2d-65          [-1, 240, 28, 28]           6,000\n",
      "      BatchNorm2d-66          [-1, 240, 28, 28]             480\n",
      "             SiLU-67          [-1, 240, 28, 28]               0\n",
      "AdaptiveAvgPool2d-68            [-1, 240, 1, 1]               0\n",
      "           Conv2d-69             [-1, 10, 1, 1]           2,410\n",
      "             SiLU-70             [-1, 10, 1, 1]               0\n",
      "           Conv2d-71            [-1, 240, 1, 1]           2,640\n",
      "          Sigmoid-72            [-1, 240, 1, 1]               0\n",
      "SqueezeExcitation-73          [-1, 240, 28, 28]               0\n",
      "           Conv2d-74           [-1, 40, 28, 28]           9,600\n",
      "      BatchNorm2d-75           [-1, 40, 28, 28]              80\n",
      "  StochasticDepth-76           [-1, 40, 28, 28]               0\n",
      "           MBConv-77           [-1, 40, 28, 28]               0\n",
      "           Conv2d-78          [-1, 240, 28, 28]           9,600\n",
      "      BatchNorm2d-79          [-1, 240, 28, 28]             480\n",
      "             SiLU-80          [-1, 240, 28, 28]               0\n",
      "           Conv2d-81          [-1, 240, 14, 14]           2,160\n",
      "      BatchNorm2d-82          [-1, 240, 14, 14]             480\n",
      "             SiLU-83          [-1, 240, 14, 14]               0\n",
      "AdaptiveAvgPool2d-84            [-1, 240, 1, 1]               0\n",
      "           Conv2d-85             [-1, 10, 1, 1]           2,410\n",
      "             SiLU-86             [-1, 10, 1, 1]               0\n",
      "           Conv2d-87            [-1, 240, 1, 1]           2,640\n",
      "          Sigmoid-88            [-1, 240, 1, 1]               0\n",
      "SqueezeExcitation-89          [-1, 240, 14, 14]               0\n",
      "           Conv2d-90           [-1, 80, 14, 14]          19,200\n",
      "      BatchNorm2d-91           [-1, 80, 14, 14]             160\n",
      "           MBConv-92           [-1, 80, 14, 14]               0\n",
      "           Conv2d-93          [-1, 480, 14, 14]          38,400\n",
      "      BatchNorm2d-94          [-1, 480, 14, 14]             960\n",
      "             SiLU-95          [-1, 480, 14, 14]               0\n",
      "           Conv2d-96          [-1, 480, 14, 14]           4,320\n",
      "      BatchNorm2d-97          [-1, 480, 14, 14]             960\n",
      "             SiLU-98          [-1, 480, 14, 14]               0\n",
      "AdaptiveAvgPool2d-99            [-1, 480, 1, 1]               0\n",
      "          Conv2d-100             [-1, 20, 1, 1]           9,620\n",
      "            SiLU-101             [-1, 20, 1, 1]               0\n",
      "          Conv2d-102            [-1, 480, 1, 1]          10,080\n",
      "         Sigmoid-103            [-1, 480, 1, 1]               0\n",
      "SqueezeExcitation-104          [-1, 480, 14, 14]               0\n",
      "          Conv2d-105           [-1, 80, 14, 14]          38,400\n",
      "     BatchNorm2d-106           [-1, 80, 14, 14]             160\n",
      " StochasticDepth-107           [-1, 80, 14, 14]               0\n",
      "          MBConv-108           [-1, 80, 14, 14]               0\n",
      "          Conv2d-109          [-1, 480, 14, 14]          38,400\n",
      "     BatchNorm2d-110          [-1, 480, 14, 14]             960\n",
      "            SiLU-111          [-1, 480, 14, 14]               0\n",
      "          Conv2d-112          [-1, 480, 14, 14]           4,320\n",
      "     BatchNorm2d-113          [-1, 480, 14, 14]             960\n",
      "            SiLU-114          [-1, 480, 14, 14]               0\n",
      "AdaptiveAvgPool2d-115            [-1, 480, 1, 1]               0\n",
      "          Conv2d-116             [-1, 20, 1, 1]           9,620\n",
      "            SiLU-117             [-1, 20, 1, 1]               0\n",
      "          Conv2d-118            [-1, 480, 1, 1]          10,080\n",
      "         Sigmoid-119            [-1, 480, 1, 1]               0\n",
      "SqueezeExcitation-120          [-1, 480, 14, 14]               0\n",
      "          Conv2d-121           [-1, 80, 14, 14]          38,400\n",
      "     BatchNorm2d-122           [-1, 80, 14, 14]             160\n",
      " StochasticDepth-123           [-1, 80, 14, 14]               0\n",
      "          MBConv-124           [-1, 80, 14, 14]               0\n",
      "          Conv2d-125          [-1, 480, 14, 14]          38,400\n",
      "     BatchNorm2d-126          [-1, 480, 14, 14]             960\n",
      "            SiLU-127          [-1, 480, 14, 14]               0\n",
      "          Conv2d-128          [-1, 480, 14, 14]          12,000\n",
      "     BatchNorm2d-129          [-1, 480, 14, 14]             960\n",
      "            SiLU-130          [-1, 480, 14, 14]               0\n",
      "AdaptiveAvgPool2d-131            [-1, 480, 1, 1]               0\n",
      "          Conv2d-132             [-1, 20, 1, 1]           9,620\n",
      "            SiLU-133             [-1, 20, 1, 1]               0\n",
      "          Conv2d-134            [-1, 480, 1, 1]          10,080\n",
      "         Sigmoid-135            [-1, 480, 1, 1]               0\n",
      "SqueezeExcitation-136          [-1, 480, 14, 14]               0\n",
      "          Conv2d-137          [-1, 112, 14, 14]          53,760\n",
      "     BatchNorm2d-138          [-1, 112, 14, 14]             224\n",
      "          MBConv-139          [-1, 112, 14, 14]               0\n",
      "          Conv2d-140          [-1, 672, 14, 14]          75,264\n",
      "     BatchNorm2d-141          [-1, 672, 14, 14]           1,344\n",
      "            SiLU-142          [-1, 672, 14, 14]               0\n",
      "          Conv2d-143          [-1, 672, 14, 14]          16,800\n",
      "     BatchNorm2d-144          [-1, 672, 14, 14]           1,344\n",
      "            SiLU-145          [-1, 672, 14, 14]               0\n",
      "AdaptiveAvgPool2d-146            [-1, 672, 1, 1]               0\n",
      "          Conv2d-147             [-1, 28, 1, 1]          18,844\n",
      "            SiLU-148             [-1, 28, 1, 1]               0\n",
      "          Conv2d-149            [-1, 672, 1, 1]          19,488\n",
      "         Sigmoid-150            [-1, 672, 1, 1]               0\n",
      "SqueezeExcitation-151          [-1, 672, 14, 14]               0\n",
      "          Conv2d-152          [-1, 112, 14, 14]          75,264\n",
      "     BatchNorm2d-153          [-1, 112, 14, 14]             224\n",
      " StochasticDepth-154          [-1, 112, 14, 14]               0\n",
      "          MBConv-155          [-1, 112, 14, 14]               0\n",
      "          Conv2d-156          [-1, 672, 14, 14]          75,264\n",
      "     BatchNorm2d-157          [-1, 672, 14, 14]           1,344\n",
      "            SiLU-158          [-1, 672, 14, 14]               0\n",
      "          Conv2d-159          [-1, 672, 14, 14]          16,800\n",
      "     BatchNorm2d-160          [-1, 672, 14, 14]           1,344\n",
      "            SiLU-161          [-1, 672, 14, 14]               0\n",
      "AdaptiveAvgPool2d-162            [-1, 672, 1, 1]               0\n",
      "          Conv2d-163             [-1, 28, 1, 1]          18,844\n",
      "            SiLU-164             [-1, 28, 1, 1]               0\n",
      "          Conv2d-165            [-1, 672, 1, 1]          19,488\n",
      "         Sigmoid-166            [-1, 672, 1, 1]               0\n",
      "SqueezeExcitation-167          [-1, 672, 14, 14]               0\n",
      "          Conv2d-168          [-1, 112, 14, 14]          75,264\n",
      "     BatchNorm2d-169          [-1, 112, 14, 14]             224\n",
      " StochasticDepth-170          [-1, 112, 14, 14]               0\n",
      "          MBConv-171          [-1, 112, 14, 14]               0\n",
      "          Conv2d-172          [-1, 672, 14, 14]          75,264\n",
      "     BatchNorm2d-173          [-1, 672, 14, 14]           1,344\n",
      "            SiLU-174          [-1, 672, 14, 14]               0\n",
      "          Conv2d-175            [-1, 672, 7, 7]          16,800\n",
      "     BatchNorm2d-176            [-1, 672, 7, 7]           1,344\n",
      "            SiLU-177            [-1, 672, 7, 7]               0\n",
      "AdaptiveAvgPool2d-178            [-1, 672, 1, 1]               0\n",
      "          Conv2d-179             [-1, 28, 1, 1]          18,844\n",
      "            SiLU-180             [-1, 28, 1, 1]               0\n",
      "          Conv2d-181            [-1, 672, 1, 1]          19,488\n",
      "         Sigmoid-182            [-1, 672, 1, 1]               0\n",
      "SqueezeExcitation-183            [-1, 672, 7, 7]               0\n",
      "          Conv2d-184            [-1, 192, 7, 7]         129,024\n",
      "     BatchNorm2d-185            [-1, 192, 7, 7]             384\n",
      "          MBConv-186            [-1, 192, 7, 7]               0\n",
      "          Conv2d-187           [-1, 1152, 7, 7]         221,184\n",
      "     BatchNorm2d-188           [-1, 1152, 7, 7]           2,304\n",
      "            SiLU-189           [-1, 1152, 7, 7]               0\n",
      "          Conv2d-190           [-1, 1152, 7, 7]          28,800\n",
      "     BatchNorm2d-191           [-1, 1152, 7, 7]           2,304\n",
      "            SiLU-192           [-1, 1152, 7, 7]               0\n",
      "AdaptiveAvgPool2d-193           [-1, 1152, 1, 1]               0\n",
      "          Conv2d-194             [-1, 48, 1, 1]          55,344\n",
      "            SiLU-195             [-1, 48, 1, 1]               0\n",
      "          Conv2d-196           [-1, 1152, 1, 1]          56,448\n",
      "         Sigmoid-197           [-1, 1152, 1, 1]               0\n",
      "SqueezeExcitation-198           [-1, 1152, 7, 7]               0\n",
      "          Conv2d-199            [-1, 192, 7, 7]         221,184\n",
      "     BatchNorm2d-200            [-1, 192, 7, 7]             384\n",
      " StochasticDepth-201            [-1, 192, 7, 7]               0\n",
      "          MBConv-202            [-1, 192, 7, 7]               0\n",
      "          Conv2d-203           [-1, 1152, 7, 7]         221,184\n",
      "     BatchNorm2d-204           [-1, 1152, 7, 7]           2,304\n",
      "            SiLU-205           [-1, 1152, 7, 7]               0\n",
      "          Conv2d-206           [-1, 1152, 7, 7]          28,800\n",
      "     BatchNorm2d-207           [-1, 1152, 7, 7]           2,304\n",
      "            SiLU-208           [-1, 1152, 7, 7]               0\n",
      "AdaptiveAvgPool2d-209           [-1, 1152, 1, 1]               0\n",
      "          Conv2d-210             [-1, 48, 1, 1]          55,344\n",
      "            SiLU-211             [-1, 48, 1, 1]               0\n",
      "          Conv2d-212           [-1, 1152, 1, 1]          56,448\n",
      "         Sigmoid-213           [-1, 1152, 1, 1]               0\n",
      "SqueezeExcitation-214           [-1, 1152, 7, 7]               0\n",
      "          Conv2d-215            [-1, 192, 7, 7]         221,184\n",
      "     BatchNorm2d-216            [-1, 192, 7, 7]             384\n",
      " StochasticDepth-217            [-1, 192, 7, 7]               0\n",
      "          MBConv-218            [-1, 192, 7, 7]               0\n",
      "          Conv2d-219           [-1, 1152, 7, 7]         221,184\n",
      "     BatchNorm2d-220           [-1, 1152, 7, 7]           2,304\n",
      "            SiLU-221           [-1, 1152, 7, 7]               0\n",
      "          Conv2d-222           [-1, 1152, 7, 7]          28,800\n",
      "     BatchNorm2d-223           [-1, 1152, 7, 7]           2,304\n",
      "            SiLU-224           [-1, 1152, 7, 7]               0\n",
      "AdaptiveAvgPool2d-225           [-1, 1152, 1, 1]               0\n",
      "          Conv2d-226             [-1, 48, 1, 1]          55,344\n",
      "            SiLU-227             [-1, 48, 1, 1]               0\n",
      "          Conv2d-228           [-1, 1152, 1, 1]          56,448\n",
      "         Sigmoid-229           [-1, 1152, 1, 1]               0\n",
      "SqueezeExcitation-230           [-1, 1152, 7, 7]               0\n",
      "          Conv2d-231            [-1, 192, 7, 7]         221,184\n",
      "     BatchNorm2d-232            [-1, 192, 7, 7]             384\n",
      " StochasticDepth-233            [-1, 192, 7, 7]               0\n",
      "          MBConv-234            [-1, 192, 7, 7]               0\n",
      "          Conv2d-235           [-1, 1152, 7, 7]         221,184\n",
      "     BatchNorm2d-236           [-1, 1152, 7, 7]           2,304\n",
      "            SiLU-237           [-1, 1152, 7, 7]               0\n",
      "          Conv2d-238           [-1, 1152, 7, 7]          10,368\n",
      "     BatchNorm2d-239           [-1, 1152, 7, 7]           2,304\n",
      "            SiLU-240           [-1, 1152, 7, 7]               0\n",
      "AdaptiveAvgPool2d-241           [-1, 1152, 1, 1]               0\n",
      "          Conv2d-242             [-1, 48, 1, 1]          55,344\n",
      "            SiLU-243             [-1, 48, 1, 1]               0\n",
      "          Conv2d-244           [-1, 1152, 1, 1]          56,448\n",
      "         Sigmoid-245           [-1, 1152, 1, 1]               0\n",
      "SqueezeExcitation-246           [-1, 1152, 7, 7]               0\n",
      "          Conv2d-247            [-1, 320, 7, 7]         368,640\n",
      "     BatchNorm2d-248            [-1, 320, 7, 7]             640\n",
      "          MBConv-249            [-1, 320, 7, 7]               0\n",
      "          Conv2d-250           [-1, 1280, 7, 7]         409,600\n",
      "     BatchNorm2d-251           [-1, 1280, 7, 7]           2,560\n",
      "            SiLU-252           [-1, 1280, 7, 7]               0\n",
      "AdaptiveAvgPool2d-253           [-1, 1280, 1, 1]               0\n",
      "         Dropout-254                 [-1, 1280]               0\n",
      "          Linear-255                 [-1, 1000]       1,281,000\n",
      "================================================================\n",
      "Total params: 5,288,548\n",
      "Trainable params: 5,288,548\n",
      "Non-trainable params: 0\n",
      "----------------------------------------------------------------\n",
      "Input size (MB): 0.57\n",
      "Forward/backward pass size (MB): 173.65\n",
      "Params size (MB): 20.17\n",
      "Estimated Total Size (MB): 194.40\n",
      "----------------------------------------------------------------\n"
     ]
    }
   ],
   "source": [
    "model = efficientnet_b0(pretrained=True)\n",
    "\n",
    "summary(model, (3, 224, 224))"
   ]
  },
  {
   "attachments": {},
   "cell_type": "markdown",
   "metadata": {},
   "source": [
    "# Constants"
   ]
  },
  {
   "cell_type": "code",
   "execution_count": 3,
   "metadata": {},
   "outputs": [],
   "source": [
    "ROOT_DIR = \"../../data\"\n",
    "\n",
    "device = torch.device(\"cuda\" if torch.cuda.is_available() else \"cpu\")\n",
    "\n",
    "IMG_SIZE = (224, 224)"
   ]
  },
  {
   "attachments": {},
   "cell_type": "markdown",
   "metadata": {},
   "source": [
    "# Hyperparameters"
   ]
  },
  {
   "cell_type": "code",
   "execution_count": 4,
   "metadata": {},
   "outputs": [],
   "source": [
    "epochs = 10\n",
    "batch_size = 4\n",
    "\n",
    "learning_rate = 1e-3\n"
   ]
  },
  {
   "attachments": {},
   "cell_type": "markdown",
   "metadata": {},
   "source": [
    "# Preparing dataset"
   ]
  },
  {
   "cell_type": "code",
   "execution_count": 5,
   "metadata": {},
   "outputs": [],
   "source": [
    "splitDataset(train_ratio=0.8, dataset_root=ROOT_DIR)"
   ]
  },
  {
   "attachments": {},
   "cell_type": "markdown",
   "metadata": {},
   "source": [
    "### Standardlize process"
   ]
  },
  {
   "cell_type": "code",
   "execution_count": 6,
   "metadata": {},
   "outputs": [
    {
     "name": "stdout",
     "output_type": "stream",
     "text": [
      "Calculating ...\n"
     ]
    },
    {
     "data": {
      "text/plain": [
       "(array([0.51551778, 0.43288471, 0.44265668]),\n",
       " array([0.19281362, 0.1960019 , 0.20439348]))"
      ]
     },
     "execution_count": 6,
     "metadata": {},
     "output_type": "execute_result"
    }
   ],
   "source": [
    "def CalcStdVsMean():\n",
    "    listImgs = []\n",
    "    print(\"Calculating ...\")\n",
    "    for folder in os.listdir(ROOT_DIR):\n",
    "        if folder != \"dataset_info.csv\":\n",
    "            for fileName in os.listdir(f\"{ROOT_DIR}/{folder}\"):\n",
    "                img = cv2.imread(f\"{ROOT_DIR}/{folder}/{fileName}\")\n",
    "                listImgs.append(cv2.resize(img, IMG_SIZE, interpolation = cv2.INTER_AREA))\n",
    "    listImgs = np.array(listImgs)\n",
    "    return (listImgs/255.0).mean((0, 1, 2)), (listImgs /255.0).std((0,1,2))\n",
    "\n",
    "MEAN, STD = CalcStdVsMean()\n",
    "\n",
    "MEAN, STD"
   ]
  },
  {
   "cell_type": "code",
   "execution_count": 7,
   "metadata": {},
   "outputs": [
    {
     "name": "stderr",
     "output_type": "stream",
     "text": [
      "Folder [100/100]: 100%|██████████| 100/100 [00:12<00:00,  7.89folder/s]\n"
     ]
    },
    {
     "name": "stdout",
     "output_type": "stream",
     "text": [
      "Found 100 data of type Train\n"
     ]
    },
    {
     "name": "stderr",
     "output_type": "stream",
     "text": [
      "Folder [26/26]: 100%|██████████| 26/26 [00:03<00:00,  7.72folder/s]"
     ]
    },
    {
     "name": "stdout",
     "output_type": "stream",
     "text": [
      "Found 26 data of type Test\n"
     ]
    },
    {
     "name": "stderr",
     "output_type": "stream",
     "text": [
      "\n"
     ]
    }
   ],
   "source": [
    "\n",
    "data_transforms = transforms.Compose([\n",
    "    MixupTransform(),\n",
    "    transforms.ToTensor(),\n",
    "    transforms.Resize(IMG_SIZE,interpolation=InterpolationMode.BICUBIC),\n",
    "    transforms.Normalize(MEAN, STD)\n",
    "])\n",
    "\n",
    "\n",
    "train_dataset = Violence_Drone_Dataset(root_dir=ROOT_DIR,train=True, transform=data_transforms)\n",
    "test_dataset = Violence_Drone_Dataset(root_dir=ROOT_DIR,train=False, transform=data_transforms)\n",
    "\n",
    "train_loader = DataLoader(dataset=train_dataset, shuffle=True, batch_size=batch_size, drop_last=True)\n",
    "test_loader = DataLoader(dataset= test_dataset, shuffle=False, batch_size=batch_size, drop_last=False)\n",
    "\n",
    "\n"
   ]
  },
  {
   "cell_type": "code",
   "execution_count": 8,
   "metadata": {},
   "outputs": [
    {
     "name": "stdout",
     "output_type": "stream",
     "text": [
      "EPOCH 0\n",
      "tensor([0, 0, 0, 0])\n",
      "tensor([0, 0, 0, 0])\n",
      "tensor([0, 0, 0, 0])\n",
      "tensor([0, 0, 0, 0])\n",
      "tensor([0, 0, 0, 0])\n",
      "tensor([0, 0, 0, 0])\n",
      "tensor([0, 0, 0, 0])\n",
      "tensor([0, 0, 0, 0])\n",
      "tensor([0, 0, 0, 0])\n",
      "tensor([0, 0, 0, 0])\n",
      "tensor([0, 0, 0, 0])\n",
      "tensor([0, 0, 0, 0])\n",
      "tensor([0, 0, 0, 0])\n",
      "tensor([0, 0, 0, 0])\n",
      "tensor([0, 0, 0, 0])\n",
      "tensor([0, 0, 0, 0])\n",
      "tensor([0, 0, 0, 0])\n",
      "tensor([0, 0, 0, 0])\n",
      "tensor([0, 0, 0, 0])\n",
      "tensor([0, 0, 0, 0])\n",
      "tensor([0, 0, 0, 0])\n",
      "tensor([0, 0, 0, 0])\n",
      "tensor([0, 0, 0, 0])\n",
      "tensor([0, 0, 0, 0])\n",
      "tensor([0, 0, 0, 0])\n",
      "EPOCH 1\n",
      "tensor([0, 0, 0, 0])\n",
      "tensor([0, 0, 0, 0])\n",
      "tensor([0, 0, 0, 0])\n",
      "tensor([0, 0, 0, 0])\n",
      "tensor([0, 0, 0, 0])\n",
      "tensor([0, 0, 0, 0])\n",
      "tensor([0, 0, 0, 0])\n",
      "tensor([0, 0, 0, 0])\n",
      "tensor([0, 0, 0, 0])\n",
      "tensor([0, 0, 0, 0])\n",
      "tensor([0, 0, 0, 0])\n",
      "tensor([0, 0, 0, 0])\n",
      "tensor([0, 0, 0, 0])\n",
      "tensor([0, 0, 0, 0])\n",
      "tensor([0, 0, 0, 0])\n",
      "tensor([0, 0, 0, 0])\n",
      "tensor([0, 0, 0, 0])\n",
      "tensor([0, 0, 0, 0])\n",
      "tensor([0, 0, 0, 0])\n",
      "tensor([0, 0, 0, 0])\n",
      "tensor([0, 0, 0, 0])\n",
      "tensor([0, 0, 0, 0])\n",
      "tensor([0, 0, 0, 0])\n",
      "tensor([0, 0, 0, 0])\n",
      "tensor([0, 0, 0, 0])\n",
      "EPOCH 2\n",
      "tensor([0, 0, 0, 0])\n",
      "tensor([0, 0, 0, 0])\n",
      "tensor([0, 0, 0, 0])\n",
      "tensor([0, 0, 0, 0])\n",
      "tensor([0, 0, 0, 0])\n",
      "tensor([0, 0, 0, 0])\n",
      "tensor([0, 0, 0, 0])\n",
      "tensor([0, 0, 0, 0])\n",
      "tensor([0, 0, 0, 0])\n",
      "tensor([0, 0, 0, 0])\n",
      "tensor([0, 0, 0, 0])\n",
      "tensor([0, 0, 0, 0])\n",
      "tensor([0, 0, 0, 0])\n",
      "tensor([0, 0, 0, 0])\n",
      "tensor([0, 0, 0, 0])\n",
      "tensor([0, 0, 0, 0])\n",
      "tensor([0, 0, 0, 0])\n",
      "tensor([0, 0, 0, 0])\n",
      "tensor([0, 0, 0, 0])\n",
      "tensor([0, 0, 0, 0])\n",
      "tensor([0, 0, 0, 0])\n",
      "tensor([0, 0, 0, 0])\n",
      "tensor([0, 0, 0, 0])\n",
      "tensor([0, 0, 0, 0])\n",
      "tensor([0, 0, 0, 0])\n",
      "EPOCH 3\n",
      "tensor([0, 0, 0, 0])\n",
      "tensor([0, 0, 0, 0])\n",
      "tensor([0, 0, 0, 0])\n",
      "tensor([0, 0, 0, 0])\n",
      "tensor([0, 0, 0, 0])\n",
      "tensor([0, 0, 0, 0])\n",
      "tensor([0, 0, 0, 0])\n",
      "tensor([0, 0, 0, 0])\n",
      "tensor([0, 0, 0, 0])\n",
      "tensor([0, 0, 0, 0])\n",
      "tensor([0, 0, 0, 0])\n",
      "tensor([0, 0, 0, 0])\n",
      "tensor([0, 0, 0, 0])\n",
      "tensor([0, 0, 0, 0])\n",
      "tensor([0, 0, 0, 0])\n",
      "tensor([0, 0, 0, 0])\n",
      "tensor([0, 0, 0, 0])\n",
      "tensor([0, 0, 0, 0])\n",
      "tensor([0, 0, 0, 0])\n",
      "tensor([0, 0, 0, 0])\n",
      "tensor([0, 0, 0, 0])\n",
      "tensor([0, 0, 0, 0])\n",
      "tensor([0, 0, 0, 0])\n",
      "tensor([0, 0, 0, 0])\n",
      "tensor([0, 0, 0, 0])\n",
      "EPOCH 4\n",
      "tensor([0, 0, 0, 0])\n",
      "tensor([0, 0, 0, 0])\n",
      "tensor([0, 0, 0, 0])\n",
      "tensor([0, 0, 0, 0])\n",
      "tensor([0, 0, 0, 0])\n",
      "tensor([0, 0, 0, 0])\n",
      "tensor([0, 0, 0, 0])\n",
      "tensor([0, 0, 0, 0])\n",
      "tensor([0, 0, 0, 0])\n",
      "tensor([0, 0, 0, 0])\n",
      "tensor([0, 0, 0, 0])\n",
      "tensor([0, 0, 0, 0])\n",
      "tensor([0, 0, 0, 0])\n",
      "tensor([0, 0, 0, 0])\n",
      "tensor([0, 0, 0, 0])\n",
      "tensor([0, 0, 0, 0])\n",
      "tensor([0, 0, 0, 0])\n",
      "tensor([0, 0, 0, 0])\n",
      "tensor([0, 0, 0, 0])\n",
      "tensor([0, 0, 0, 0])\n",
      "tensor([0, 0, 0, 0])\n",
      "tensor([0, 0, 0, 0])\n",
      "tensor([0, 0, 0, 0])\n",
      "tensor([0, 0, 0, 0])\n",
      "tensor([0, 0, 0, 0])\n",
      "EPOCH 5\n",
      "tensor([0, 0, 0, 0])\n",
      "tensor([0, 0, 0, 0])\n",
      "tensor([0, 0, 0, 0])\n",
      "tensor([0, 0, 0, 0])\n",
      "tensor([0, 0, 0, 0])\n",
      "tensor([0, 0, 0, 0])\n",
      "tensor([0, 0, 0, 0])\n",
      "tensor([0, 0, 0, 0])\n",
      "tensor([0, 0, 0, 0])\n",
      "tensor([0, 0, 0, 0])\n",
      "tensor([0, 0, 0, 0])\n",
      "tensor([0, 0, 0, 0])\n",
      "tensor([0, 0, 0, 0])\n",
      "tensor([0, 0, 0, 0])\n",
      "tensor([0, 0, 0, 0])\n",
      "tensor([0, 0, 0, 0])\n",
      "tensor([0, 0, 0, 0])\n",
      "tensor([0, 0, 0, 0])\n",
      "tensor([0, 0, 0, 0])\n",
      "tensor([0, 0, 0, 0])\n",
      "tensor([0, 0, 0, 0])\n",
      "tensor([0, 0, 0, 0])\n",
      "tensor([0, 0, 0, 0])\n",
      "tensor([0, 0, 0, 0])\n",
      "tensor([0, 0, 0, 0])\n",
      "EPOCH 6\n",
      "tensor([0, 0, 0, 0])\n",
      "tensor([0, 0, 0, 0])\n",
      "tensor([0, 0, 0, 0])\n",
      "tensor([0, 0, 0, 0])\n",
      "tensor([0, 0, 0, 0])\n",
      "tensor([0, 0, 0, 0])\n",
      "tensor([0, 0, 0, 0])\n",
      "tensor([0, 0, 0, 0])\n",
      "tensor([0, 0, 0, 0])\n",
      "tensor([0, 0, 0, 0])\n",
      "tensor([0, 0, 0, 0])\n",
      "tensor([0, 0, 0, 0])\n",
      "tensor([0, 0, 0, 0])\n",
      "tensor([0, 0, 0, 0])\n",
      "tensor([0, 0, 0, 0])\n",
      "tensor([0, 0, 0, 0])\n",
      "tensor([0, 0, 0, 0])\n",
      "tensor([0, 0, 0, 0])\n",
      "tensor([0, 0, 0, 0])\n",
      "tensor([0, 0, 0, 0])\n",
      "tensor([0, 0, 0, 0])\n",
      "tensor([0, 0, 0, 0])\n",
      "tensor([0, 0, 0, 0])\n",
      "tensor([0, 0, 0, 0])\n",
      "tensor([0, 0, 0, 0])\n",
      "EPOCH 7\n",
      "tensor([0, 0, 0, 0])\n",
      "tensor([0, 0, 0, 0])\n",
      "tensor([0, 0, 0, 0])\n",
      "tensor([0, 0, 0, 0])\n",
      "tensor([0, 0, 0, 0])\n",
      "tensor([0, 0, 0, 0])\n",
      "tensor([0, 0, 0, 0])\n",
      "tensor([0, 0, 0, 0])\n",
      "tensor([0, 0, 0, 0])\n",
      "tensor([0, 0, 0, 0])\n",
      "tensor([0, 0, 0, 0])\n",
      "tensor([0, 0, 0, 0])\n",
      "tensor([0, 0, 0, 0])\n",
      "tensor([0, 0, 0, 0])\n",
      "tensor([0, 0, 0, 0])\n",
      "tensor([0, 0, 0, 0])\n",
      "tensor([0, 0, 0, 0])\n",
      "tensor([0, 0, 0, 0])\n",
      "tensor([0, 0, 0, 0])\n",
      "tensor([0, 0, 0, 0])\n",
      "tensor([0, 0, 0, 0])\n",
      "tensor([0, 0, 0, 0])\n",
      "tensor([0, 0, 0, 0])\n",
      "tensor([0, 0, 0, 0])\n",
      "tensor([0, 0, 0, 0])\n",
      "EPOCH 8\n",
      "tensor([0, 0, 0, 0])\n",
      "tensor([0, 0, 0, 0])\n",
      "tensor([0, 0, 0, 0])\n",
      "tensor([0, 0, 0, 0])\n",
      "tensor([0, 0, 0, 0])\n",
      "tensor([0, 0, 0, 0])\n",
      "tensor([0, 0, 0, 0])\n",
      "tensor([0, 0, 0, 0])\n",
      "tensor([0, 0, 0, 0])\n",
      "tensor([0, 0, 0, 0])\n",
      "tensor([0, 0, 0, 0])\n",
      "tensor([0, 0, 0, 0])\n",
      "tensor([0, 0, 0, 0])\n",
      "tensor([0, 0, 0, 0])\n",
      "tensor([0, 0, 0, 0])\n",
      "tensor([0, 0, 0, 0])\n",
      "tensor([0, 0, 0, 0])\n",
      "tensor([0, 0, 0, 0])\n",
      "tensor([0, 0, 0, 0])\n",
      "tensor([0, 0, 0, 0])\n",
      "tensor([0, 0, 0, 0])\n",
      "tensor([0, 0, 0, 0])\n",
      "tensor([0, 0, 0, 0])\n",
      "tensor([0, 0, 0, 0])\n",
      "tensor([0, 0, 0, 0])\n",
      "EPOCH 9\n",
      "tensor([0, 0, 0, 0])\n",
      "tensor([0, 0, 0, 0])\n",
      "tensor([0, 0, 0, 0])\n",
      "tensor([0, 0, 0, 0])\n",
      "tensor([0, 0, 0, 0])\n",
      "tensor([0, 0, 0, 0])\n",
      "tensor([0, 0, 0, 0])\n",
      "tensor([0, 0, 0, 0])\n",
      "tensor([0, 0, 0, 0])\n",
      "tensor([0, 0, 0, 0])\n",
      "tensor([0, 0, 0, 0])\n",
      "tensor([0, 0, 0, 0])\n",
      "tensor([0, 0, 0, 0])\n",
      "tensor([0, 0, 0, 0])\n",
      "tensor([0, 0, 0, 0])\n",
      "tensor([0, 0, 0, 0])\n",
      "tensor([0, 0, 0, 0])\n",
      "tensor([0, 0, 0, 0])\n",
      "tensor([0, 0, 0, 0])\n",
      "tensor([0, 0, 0, 0])\n",
      "tensor([0, 0, 0, 0])\n",
      "tensor([0, 0, 0, 0])\n",
      "tensor([0, 0, 0, 0])\n",
      "tensor([0, 0, 0, 0])\n",
      "tensor([0, 0, 0, 0])\n"
     ]
    }
   ],
   "source": [
    "for epoch in range(epochs):\n",
    "    print(\"EPOCH\",epoch)\n",
    "    for img, label in train_loader:\n",
    "        print(label)"
   ]
  },
  {
   "cell_type": "code",
   "execution_count": 9,
   "metadata": {},
   "outputs": [
    {
     "name": "stdout",
     "output_type": "stream",
     "text": [
      "torch.Size([4, 3, 224, 224])\n"
     ]
    }
   ],
   "source": [
    "samples = iter(train_loader)\n",
    "\n",
    "imgs, labels = samples.__next__()\n",
    "\n",
    "print(imgs.shape)"
   ]
  },
  {
   "attachments": {},
   "cell_type": "markdown",
   "metadata": {},
   "source": [
    "# Preparing for training"
   ]
  },
  {
   "cell_type": "code",
   "execution_count": 10,
   "metadata": {},
   "outputs": [],
   "source": [
    "optimizer = torch.optim.AdamW(model.parameters(),\n",
    "                              lr=learning_rate,\n",
    "                              weight_decay=0.0005)\n",
    "\n",
    "exp_lr_scheduler = lr_scheduler.MultiStepLR(\n",
    "    optimizer,\n",
    "    milestones=[20, 40, 60, 80, 100],\n",
    "    gamma=0.2\n",
    ")\n",
    "\n",
    "criterion = nn.CrossEntropyLoss()\n",
    "\n",
    "train_loss, train_accuracy = [], []\n",
    "val_loss, val_accuracy = [], []\n"
   ]
  },
  {
   "cell_type": "code",
   "execution_count": 11,
   "metadata": {},
   "outputs": [],
   "source": [
    "def fit(model, dataloader,epoch, epochs, train=True):\n",
    "    if train:\n",
    "        model.train()\n",
    "    else:\n",
    "        model.eval() \n",
    "    \n",
    "    \n",
    "    running_loss = 0.0\n",
    "    running_correct = 0\n",
    "    n_samples = 0\n",
    "    \n",
    "    print(\"Train\" if train else \"Val\")\n",
    "    \n",
    "    with tqdm(dataloader, unit='batch') as tepoch:\n",
    "        for images, labels in tepoch:    \n",
    "            \n",
    "            tepoch.set_description(f\"Epoch [{epoch}/{epochs}]\")\n",
    "                \n",
    "            images, labels = images.to(device), labels.to(device)\n",
    "            outputs = model(images)\n",
    "            loss = criterion(outputs, labels)\n",
    "\n",
    "            running_loss += loss.item()\n",
    "            _, preds = torch.max(outputs, 1)\n",
    "            correct = (preds == labels).sum().item()\n",
    "\n",
    "            running_correct += (preds == labels).sum().item()\n",
    "\n",
    "            n_samples += labels.size(0)\n",
    "\n",
    "            if train:\n",
    "                optimizer.zero_grad()\n",
    "                loss.backward()\n",
    "                optimizer.step()\n",
    "            \n",
    "            tepoch.set_postfix(loss=loss.item()/labels.size(0), accuracy=100.*correct/labels.size(0))\n",
    "            \n",
    "        process_loss = running_loss / n_samples\n",
    "        process_acc = 100. * running_correct / n_samples\n",
    "    \n",
    "    return process_loss, process_acc\n",
    "                "
   ]
  },
  {
   "attachments": {},
   "cell_type": "markdown",
   "metadata": {},
   "source": [
    "# Training and evaluating"
   ]
  },
  {
   "cell_type": "code",
   "execution_count": 12,
   "metadata": {},
   "outputs": [
    {
     "name": "stdout",
     "output_type": "stream",
     "text": [
      "Train\n"
     ]
    },
    {
     "name": "stderr",
     "output_type": "stream",
     "text": [
      "Epoch [0/10]: 100%|██████████| 25/25 [01:38<00:00,  3.92s/batch, accuracy=100, loss=0.00119] \n"
     ]
    },
    {
     "name": "stdout",
     "output_type": "stream",
     "text": [
      "Val\n"
     ]
    },
    {
     "name": "stderr",
     "output_type": "stream",
     "text": [
      "Epoch [0/10]: 100%|██████████| 7/7 [00:08<00:00,  1.18s/batch, accuracy=100, loss=0.000756]\n"
     ]
    },
    {
     "name": "stdout",
     "output_type": "stream",
     "text": [
      "Train\n"
     ]
    },
    {
     "name": "stderr",
     "output_type": "stream",
     "text": [
      "Epoch [1/10]: 100%|██████████| 25/25 [01:31<00:00,  3.67s/batch, accuracy=100, loss=2.15e-6] \n"
     ]
    },
    {
     "name": "stdout",
     "output_type": "stream",
     "text": [
      "Val\n"
     ]
    },
    {
     "name": "stderr",
     "output_type": "stream",
     "text": [
      "Epoch [1/10]: 100%|██████████| 7/7 [00:08<00:00,  1.28s/batch, accuracy=100, loss=0.384]   \n"
     ]
    },
    {
     "name": "stdout",
     "output_type": "stream",
     "text": [
      "Train\n"
     ]
    },
    {
     "name": "stderr",
     "output_type": "stream",
     "text": [
      "Epoch [2/10]: 100%|██████████| 25/25 [01:09<00:00,  2.78s/batch, accuracy=100, loss=8.87e-7]\n"
     ]
    },
    {
     "name": "stdout",
     "output_type": "stream",
     "text": [
      "Val\n"
     ]
    },
    {
     "name": "stderr",
     "output_type": "stream",
     "text": [
      "Epoch [2/10]: 100%|██████████| 7/7 [00:04<00:00,  1.48batch/s, accuracy=100, loss=0.17]    \n"
     ]
    },
    {
     "name": "stdout",
     "output_type": "stream",
     "text": [
      "Train\n"
     ]
    },
    {
     "name": "stderr",
     "output_type": "stream",
     "text": [
      "Epoch [3/10]: 100%|██████████| 25/25 [00:54<00:00,  2.19s/batch, accuracy=100, loss=2.41e-6]\n"
     ]
    },
    {
     "name": "stdout",
     "output_type": "stream",
     "text": [
      "Val\n"
     ]
    },
    {
     "name": "stderr",
     "output_type": "stream",
     "text": [
      "Epoch [3/10]: 100%|██████████| 7/7 [00:04<00:00,  1.51batch/s, accuracy=100, loss=0.381]   \n"
     ]
    },
    {
     "name": "stdout",
     "output_type": "stream",
     "text": [
      "Train\n"
     ]
    },
    {
     "name": "stderr",
     "output_type": "stream",
     "text": [
      "Epoch [4/10]: 100%|██████████| 25/25 [00:55<00:00,  2.21s/batch, accuracy=100, loss=1.87e-6]\n"
     ]
    },
    {
     "name": "stdout",
     "output_type": "stream",
     "text": [
      "Val\n"
     ]
    },
    {
     "name": "stderr",
     "output_type": "stream",
     "text": [
      "Epoch [4/10]: 100%|██████████| 7/7 [00:05<00:00,  1.39batch/s, accuracy=100, loss=0.369]   \n"
     ]
    },
    {
     "name": "stdout",
     "output_type": "stream",
     "text": [
      "Train\n"
     ]
    },
    {
     "name": "stderr",
     "output_type": "stream",
     "text": [
      "Epoch [5/10]: 100%|██████████| 25/25 [00:53<00:00,  2.13s/batch, accuracy=100, loss=0.000271]\n"
     ]
    },
    {
     "name": "stdout",
     "output_type": "stream",
     "text": [
      "Val\n"
     ]
    },
    {
     "name": "stderr",
     "output_type": "stream",
     "text": [
      "Epoch [5/10]: 100%|██████████| 7/7 [00:04<00:00,  1.53batch/s, accuracy=100, loss=1.36]  \n"
     ]
    },
    {
     "name": "stdout",
     "output_type": "stream",
     "text": [
      "Train\n"
     ]
    },
    {
     "name": "stderr",
     "output_type": "stream",
     "text": [
      "Epoch [6/10]: 100%|██████████| 25/25 [00:54<00:00,  2.18s/batch, accuracy=100, loss=5.27e-6] \n"
     ]
    },
    {
     "name": "stdout",
     "output_type": "stream",
     "text": [
      "Val\n"
     ]
    },
    {
     "name": "stderr",
     "output_type": "stream",
     "text": [
      "Epoch [6/10]: 100%|██████████| 7/7 [00:04<00:00,  1.50batch/s, accuracy=100, loss=0.000174]\n"
     ]
    },
    {
     "name": "stdout",
     "output_type": "stream",
     "text": [
      "Train\n"
     ]
    },
    {
     "name": "stderr",
     "output_type": "stream",
     "text": [
      "Epoch [7/10]: 100%|██████████| 25/25 [01:49<00:00,  4.40s/batch, accuracy=100, loss=1.3e-6] \n"
     ]
    },
    {
     "name": "stdout",
     "output_type": "stream",
     "text": [
      "Val\n"
     ]
    },
    {
     "name": "stderr",
     "output_type": "stream",
     "text": [
      "Epoch [7/10]: 100%|██████████| 7/7 [00:18<00:00,  2.64s/batch, accuracy=100, loss=0.000175]\n"
     ]
    },
    {
     "name": "stdout",
     "output_type": "stream",
     "text": [
      "Train\n"
     ]
    },
    {
     "name": "stderr",
     "output_type": "stream",
     "text": [
      "Epoch [8/10]: 100%|██████████| 25/25 [03:04<00:00,  7.39s/batch, accuracy=100, loss=3.01e-6] \n"
     ]
    },
    {
     "name": "stdout",
     "output_type": "stream",
     "text": [
      "Val\n"
     ]
    },
    {
     "name": "stderr",
     "output_type": "stream",
     "text": [
      "Epoch [8/10]: 100%|██████████| 7/7 [00:26<00:00,  3.85s/batch, accuracy=100, loss=0.000131]\n"
     ]
    },
    {
     "name": "stdout",
     "output_type": "stream",
     "text": [
      "Train\n"
     ]
    },
    {
     "name": "stderr",
     "output_type": "stream",
     "text": [
      "Epoch [9/10]: 100%|██████████| 25/25 [02:02<00:00,  4.92s/batch, accuracy=100, loss=3.06e-6]\n"
     ]
    },
    {
     "name": "stdout",
     "output_type": "stream",
     "text": [
      "Val\n"
     ]
    },
    {
     "name": "stderr",
     "output_type": "stream",
     "text": [
      "Epoch [9/10]: 100%|██████████| 7/7 [00:10<00:00,  1.52s/batch, accuracy=100, loss=0.00034]"
     ]
    },
    {
     "name": "stdout",
     "output_type": "stream",
     "text": [
      "16.540188614527384 minutes\n",
      "Model saved!\n"
     ]
    },
    {
     "name": "stderr",
     "output_type": "stream",
     "text": [
      "\n"
     ]
    }
   ],
   "source": [
    "model = model.to(device)\n",
    "\n",
    "start = time.time()\n",
    "\n",
    "for epoch in range(epochs):\n",
    "    \n",
    "    train_epoch_loss, train_epoch_acc = fit(model, train_loader, epoch, epochs)\n",
    "    exp_lr_scheduler.step()\n",
    "    \n",
    "    val_epoch_loss, val_epoch_acc = fit(model, test_loader, epoch, epochs, train=False)\n",
    "    \n",
    "    train_loss.append(train_epoch_loss)\n",
    "    train_accuracy.append(train_epoch_acc)\n",
    "    \n",
    "    val_loss.append(val_epoch_loss)\n",
    "    val_accuracy.append(val_epoch_acc)\n",
    "\n",
    "end = time.time()\n",
    "\n",
    "print((end-start)/60, 'minutes')\n",
    "\n",
    "torch.save(model.state_dict(), \"last_weights_v2.pth\")\n",
    "print(\"Model saved!\")"
   ]
  },
  {
   "attachments": {},
   "cell_type": "markdown",
   "metadata": {},
   "source": [
    "## Evaluation"
   ]
  },
  {
   "cell_type": "code",
   "execution_count": 13,
   "metadata": {},
   "outputs": [],
   "source": [
    "def plotting(colors: tuple, labels : tuple, savefigName: str, data: tuple, figsize=(10, 7)):\n",
    "    train, val = data\n",
    "    color_train, color_val = colors\n",
    "    label_train, label_val = labels\n",
    "    \n",
    "    plt.figure(figsize=figsize)\n",
    "    plt.plot(train, color='green', label=label_train)\n",
    "    plt.plot(val, color='blue', label=label_val)\n",
    "    plt.legend()\n",
    "    plt.savefig(savefigName)\n",
    "    plt.show()"
   ]
  },
  {
   "attachments": {},
   "cell_type": "markdown",
   "metadata": {},
   "source": [
    "### Loss"
   ]
  },
  {
   "cell_type": "code",
   "execution_count": 14,
   "metadata": {},
   "outputs": [
    {
     "data": {
      "image/png": "[encoded data removed]",
      "text/plain": [
       "<Figure size 1000x700 with 1 Axes>"
      ]
     },
     "metadata": {},
     "output_type": "display_data"
    }
   ],
   "source": [
    "plotting(colors=('orange', 'red'),\n",
    "         labels=(\"train loss\", \"val loss\"),\n",
    "         savefigName=\"loss.png\",\n",
    "         data=(train_loss, val_loss))\n"
   ]
  },
  {
   "attachments": {},
   "cell_type": "markdown",
   "metadata": {},
   "source": [
    "### Accuracy"
   ]
  },
  {
   "cell_type": "code",
   "execution_count": 16,
   "metadata": {},
   "outputs": [
    {
     "data": {
      "image/png": "[encoded data removed]",
      "text/plain": [
       "<Figure size 1000x700 with 1 Axes>"
      ]
     },
     "metadata": {},
     "output_type": "display_data"
    }
   ],
   "source": [
    "plotting(colors=('green', 'blue'),\n",
    "         labels=(\"train acc\", \"val acc\"),\n",
    "         savefigName=\"acc.png\",\n",
    "         data=(train_accuracy, val_accuracy))"
   ]
  }
 ],
 "metadata": {
  "kernelspec": {
   "display_name": "Python 3",
   "language": "python",
   "name": "python3"
  },
  "language_info": {
   "codemirror_mode": {
    "name": "ipython",
    "version": 3
   },
   "file_extension": ".py",
   "mimetype": "text/x-python",
   "name": "python",
   "nbconvert_exporter": "python",
   "pygments_lexer": "ipython3",
   "version": "3.9.7"
  },
  "orig_nbformat": 4,
  "vscode": {
   "interpreter": {
    "hash": "9d2e2287b90f84c05b564773cad156a65fe051f83fa7c81a3ad23c3ed1bf9926"
   }
  }
 },
 "nbformat": 4,
 "nbformat_minor": 2
}
