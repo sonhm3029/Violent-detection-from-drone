{
 "cells": [
  {
   "cell_type": "markdown",
   "metadata": {},
   "source": [
    "## Import lib"
   ]
  },
  {
   "cell_type": "code",
   "execution_count": 1,
   "metadata": {},
   "outputs": [],
   "source": [
    "import pandas as pd\n",
    "import cv2\n",
    "import matplotlib.pyplot as plt\n",
    "import os\n",
    "import random"
   ]
  },
  {
   "cell_type": "markdown",
   "metadata": {},
   "source": [
    "## Hyperparameters\n"
   ]
  },
  {
   "cell_type": "code",
   "execution_count": 5,
   "metadata": {},
   "outputs": [],
   "source": [
    "VIDEO_DIR = \"./non_violence\"\n",
    "IMAGE_DIR = \"./images\"\n",
    "\n",
    "SUB_DIRS = [\"train\", \"test\"]\n",
    "\n",
    "NUM_FRAME_TO_SAVE = 4\n"
   ]
  },
  {
   "cell_type": "markdown",
   "metadata": {},
   "source": [
    "## CUT FRAME"
   ]
  },
  {
   "cell_type": "code",
   "execution_count": 8,
   "metadata": {},
   "outputs": [],
   "source": [
    "def takeFilename(file):\n",
    "    return file.split(\".\")[0]\n",
    "\n",
    "def extract_all_frame(filepath, filename, subdir):\n",
    "    vid_capture = cv2.VideoCapture(filepath)\n",
    "    total_frame = 0\n",
    "    print(f\"Processing {filename}\")\n",
    "    \n",
    "    if vid_capture.isOpened() == False:\n",
    "        print(f\"Error opening video {filename}\")\n",
    "    else:\n",
    "        # Get frame rate info\n",
    "        fps = int(vid_capture.get(cv2.CAP_PROP_FPS))\n",
    "        \n",
    "        # Get frame count\n",
    "        total_frame = vid_capture.get(cv2.CAP_PROP_FRAME_COUNT)\n",
    "        print(f\"FPS: {fps}\")\n",
    "        print(f\"Frame count: {total_frame}\")\n",
    "        \n",
    "    # Read and cutting frame\n",
    "    count = 0\n",
    "    frame_count = 0\n",
    "    temp_frame_list = []\n",
    "    while( vid_capture.isOpened()):\n",
    "        ret, frame = vid_capture.read()\n",
    "        if ret == True:\n",
    "            count +=1\n",
    "            cv2.imwrite(\n",
    "                    f\"{IMAGE_DIR}/{subdir}/{takeFilename(filename)}_frame{count}.jpg\",\n",
    "                    frame\n",
    "            )\n",
    "            cv2.waitKey(20)\n",
    "            \n",
    "        else:\n",
    "            print(f\"Successfully save [{count}/{total_frame}] frames from {filename}\\n\\n\")\n",
    "            cv2.destroyAllWindows()\n",
    "            break\n",
    "\n",
    "def cutting_frame(filepath, filename, subdir):\n",
    "    \n",
    "    vid_capture = cv2.VideoCapture(filepath)\n",
    "    total_frame = 0\n",
    "    print(f\"Processing {filename}\")\n",
    "    \n",
    "    if vid_capture.isOpened() == False:\n",
    "        print(f\"Error opening video {filename}\")\n",
    "    else:\n",
    "        # Get frame rate info\n",
    "        fps = int(vid_capture.get(cv2.CAP_PROP_FPS))\n",
    "        \n",
    "        # Get frame count\n",
    "        total_frame = vid_capture.get(cv2.CAP_PROP_FRAME_COUNT)\n",
    "        print(f\"FPS: {fps}\")\n",
    "        print(f\"Frame count: {total_frame}\")\n",
    "        \n",
    "    # Read and cutting frame\n",
    "    count = 0\n",
    "    frame_count = 0\n",
    "    temp_frame_list = []\n",
    "    while( vid_capture.isOpened()):\n",
    "        ret, frame = vid_capture.read()\n",
    "        if ret == True:\n",
    "            frame_count +=1\n",
    "            temp_frame_list.append(frame)\n",
    "            if frame_count == NUM_FRAME_TO_SAVE:\n",
    "                random_frame_idx = random.choice(range(4))\n",
    "                cv2.imwrite(\n",
    "                    f\"{IMAGE_DIR}/{subdir}/{takeFilename(filename)}_frame{count}.jpg\",\n",
    "                    temp_frame_list[random_frame_idx]\n",
    "                )\n",
    "                frame_count = 0\n",
    "                temp_frame_list = []\n",
    "                count +=1\n",
    "            cv2.waitKey(20)\n",
    "            \n",
    "        else:\n",
    "            print(f\"Successfully save [{count}/{total_frame}] frames from {filename}\\n\\n\")\n",
    "            cv2.destroyAllWindows()\n",
    "            break"
   ]
  },
  {
   "cell_type": "code",
   "execution_count": 9,
   "metadata": {},
   "outputs": [
    {
     "name": "stdout",
     "output_type": "stream",
     "text": [
      "Processing Non_violence_son_vid_1.mp4\n",
      "FPS: 29\n",
      "Frame count: 86.0\n",
      "Successfully save [86/86.0] frames from Non_violence_son_vid_1.mp4\n",
      "\n",
      "\n",
      "Processing Non_violence_son_vid_2.mp4\n",
      "FPS: 29\n",
      "Frame count: 365.0\n",
      "Successfully save [365/365.0] frames from Non_violence_son_vid_2.mp4\n",
      "\n",
      "\n",
      "Processing Non_violence_son_vid_3.mp4\n",
      "FPS: 29\n",
      "Frame count: 104.0\n",
      "Successfully save [104/104.0] frames from Non_violence_son_vid_3.mp4\n",
      "\n",
      "\n",
      "Processing Non_violence_son_vid_4.mp4\n",
      "FPS: 29\n",
      "Frame count: 94.0\n",
      "Successfully save [94/94.0] frames from Non_violence_son_vid_4.mp4\n",
      "\n",
      "\n",
      "Processing Non_violence_son_vid_5.mp4\n",
      "FPS: 29\n",
      "Frame count: 50.0\n",
      "Successfully save [50/50.0] frames from Non_violence_son_vid_5.mp4\n",
      "\n",
      "\n",
      "Processing Non_violence_son_vid_6.mp4\n",
      "FPS: 29\n",
      "Frame count: 39.0\n",
      "Successfully save [39/39.0] frames from Non_violence_son_vid_6.mp4\n",
      "\n",
      "\n",
      "Processing Non_violence_son_vid_7.mp4\n",
      "FPS: 29\n",
      "Frame count: 798.0\n",
      "Successfully save [798/798.0] frames from Non_violence_son_vid_7.mp4\n",
      "\n",
      "\n",
      "Processing Non_violence_son_vid_8.mp4\n",
      "FPS: 29\n",
      "Frame count: 1517.0\n",
      "Successfully save [1517/1517.0] frames from Non_violence_son_vid_8.mp4\n",
      "\n",
      "\n"
     ]
    }
   ],
   "source": [
    "for subdir in os.listdir(VIDEO_DIR):\n",
    "    for filename in os.listdir(os.path.join(VIDEO_DIR, subdir)):\n",
    "        # Cutting and save frame\n",
    "        filepath =f\"{VIDEO_DIR}/{subdir}/{filename}\"\n",
    "        extract_all_frame(filepath, filename, subdir)"
   ]
  },
  {
   "cell_type": "markdown",
   "metadata": {},
   "source": [
    "## Write info dataset to CSV"
   ]
  }
 ],
 "metadata": {
  "kernelspec": {
   "display_name": "Python 3.9.7 64-bit",
   "language": "python",
   "name": "python3"
  },
  "language_info": {
   "codemirror_mode": {
    "name": "ipython",
    "version": 3
   },
   "file_extension": ".py",
   "mimetype": "text/x-python",
   "name": "python",
   "nbconvert_exporter": "python",
   "pygments_lexer": "ipython3",
   "version": "3.9.7 (tags/v3.9.7:1016ef3, Aug 30 2021, 20:19:38) [MSC v.1929 64 bit (AMD64)]"
  },
  "orig_nbformat": 4,
  "vscode": {
   "interpreter": {
    "hash": "9d2e2287b90f84c05b564773cad156a65fe051f83fa7c81a3ad23c3ed1bf9926"
   }
  }
 },
 "nbformat": 4,
 "nbformat_minor": 2
}
