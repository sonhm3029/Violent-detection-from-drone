{
 "cells": [
  {
   "cell_type": "code",
   "execution_count": 4,
   "metadata": {},
   "outputs": [],
   "source": [
    "import cv2\n",
    "import os\n",
    "import matplotlib.pyplot as plt\n",
    "import numpy as np\n",
    "\n",
    "%matplotlib inline"
   ]
  },
  {
   "cell_type": "code",
   "execution_count": 11,
   "metadata": {},
   "outputs": [
    {
     "data": {
      "text/plain": [
       "'c:\\\\Users\\\\hoang\\\\OneDrive\\\\Desktop\\\\edabk\\\\data\\\\violent-from-drone'"
      ]
     },
     "execution_count": 11,
     "metadata": {},
     "output_type": "execute_result"
    }
   ],
   "source": [
    "%pwd"
   ]
  },
  {
   "cell_type": "code",
   "execution_count": 47,
   "metadata": {},
   "outputs": [],
   "source": [
    "IMG = \"processed_images\"\n",
    "LABELS = \"labels\"\n",
    "\n",
    "FLIP_IMG = \"flip_images\"\n",
    "FLIP_LABELS = \"flip_labels\"\n",
    "\n",
    "# def bbox(img, anotation):\n",
    "#     top_left = (int((anotation[1] - anotation[3]/2) * width), int((anotation[2] - anotation[4]/2)*height))\n",
    "#     bottom_right = (int((anotation[1] + anotation[3]/2) * width), int((anotation[2] + anotation[4]/2)*height))\n",
    "    \n",
    "\n",
    "#     rect_img = cv2.rectangle(img.copy(), top_left, bottom_right, (0, 0, 255), thickness=3, lineType=cv2.LINE_8)\n",
    "#     plt.imshow(rect_img)\n",
    "\n",
    "\n",
    "for subdir in os.listdir(IMG):\n",
    "    for file in os.listdir(f\"{IMG}/{subdir}\"):\n",
    "        img = cv2.imread(f\"{IMG}/{subdir}/{file}\")\n",
    "        img_flip = cv2.flip(img.copy(), 1) \n",
    "        fileName = file.split(\".\")[0]\n",
    "        label_file = f\"{fileName}.txt\"\n",
    "        label_file = open(f\"{LABELS}/{subdir}/{label_file}\")\n",
    "        \n",
    "        anotation = [float(value) for value in label_file.readline().strip().split(\" \")]\n",
    "        \n",
    "        flip_annotation = \" \".join([str(int(anotation[0])), f\"{(1 - anotation[1]):.6f}\", str(anotation[2]), str(anotation[3]), str(anotation[4])])\n",
    "\n",
    "        # Write img and anotation\n",
    "        \n",
    "        cv2.imwrite(f\"{FLIP_IMG}/{subdir}/{fileName}_flip.jpg\", img_flip)\n",
    "        annotationFile = open(f\"{FLIP_LABELS}/{subdir}/{fileName}_flip.txt\", \"w\")\n",
    "        annotationFile.write(flip_annotation)\n",
    "        annotationFile.close()\n",
    "\n",
    "# for file in os.listdir(IMG):\n",
    "#     img = cv2.imread(f\"{IMG}/{file}\")\n",
    "#     flip_img = cv2.flip(img, 1)\n",
    "    \n",
    "#     height = img.shape[0]\n",
    "#     width = img.shape[1]\n",
    "\n",
    "#     fileName = file.split(\".\")[0]\n",
    "#     label_file = f\"{fileName}.txt\"\n",
    "#     label_file = open(f\"{LABELS}/{label_file}\")\n",
    "#     anotation = [float(value) for value in label_file.readline().strip().split(\" \")]\n",
    "    \n",
    "#     flip_annotation = [anotation[0], 1 - anotation[1], anotation[2], anotation[3], anotation[4]]\n",
    "    \n",
    "#     plt.subplot(1,2,1)\n",
    "#     bbox(img, anotation)\n",
    "#     plt.subplot(1,2,2)\n",
    "#     bbox(flip_img, flip_annotation)\n",
    "    \n",
    "#     plt.show()\n",
    "    \n",
    "    \n",
    "    \n",
    "        "
   ]
  }
 ],
 "metadata": {
  "kernelspec": {
   "display_name": "Python 3.9.7 64-bit",
   "language": "python",
   "name": "python3"
  },
  "language_info": {
   "codemirror_mode": {
    "name": "ipython",
    "version": 3
   },
   "file_extension": ".py",
   "mimetype": "text/x-python",
   "name": "python",
   "nbconvert_exporter": "python",
   "pygments_lexer": "ipython3",
   "version": "3.9.7 (tags/v3.9.7:1016ef3, Aug 30 2021, 20:19:38) [MSC v.1929 64 bit (AMD64)]"
  },
  "orig_nbformat": 4,
  "vscode": {
   "interpreter": {
    "hash": "9d2e2287b90f84c05b564773cad156a65fe051f83fa7c81a3ad23c3ed1bf9926"
   }
  }
 },
 "nbformat": 4,
 "nbformat_minor": 2
}
