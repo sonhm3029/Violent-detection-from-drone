{
 "cells": [
  {
   "attachments": {},
   "cell_type": "markdown",
   "metadata": {},
   "source": [
    "# Import packages"
   ]
  },
  {
   "cell_type": "code",
   "execution_count": 1,
   "metadata": {},
   "outputs": [
    {
     "name": "stderr",
     "output_type": "stream",
     "text": [
      "c:\\Users\\hoang\\anaconda3\\envs\\edabk_violence_env\\lib\\site-packages\\tqdm\\auto.py:22: TqdmWarning: IProgress not found. Please update jupyter and ipywidgets. See https://ipywidgets.readthedocs.io/en/stable/user_install.html\n",
      "  from .autonotebook import tqdm as notebook_tqdm\n",
      "c:\\Users\\hoang\\anaconda3\\envs\\edabk_violence_env\\lib\\site-packages\\torchvision\\models\\_utils.py:208: UserWarning: The parameter 'pretrained' is deprecated since 0.13 and may be removed in the future, please use 'weights' instead.\n",
      "  warnings.warn(\n",
      "c:\\Users\\hoang\\anaconda3\\envs\\edabk_violence_env\\lib\\site-packages\\torchvision\\models\\_utils.py:223: UserWarning: Arguments other than a weight enum or `None` for 'weights' are deprecated since 0.13 and may be removed in the future. The current behavior is equivalent to passing `weights=EfficientNet_B0_Weights.IMAGENET1K_V1`. You can also use `weights=EfficientNet_B0_Weights.DEFAULT` to get the most up-to-date weights.\n",
      "  warnings.warn(msg)\n"
     ]
    },
    {
     "name": "stdout",
     "output_type": "stream",
     "text": [
      "Sequential(\n",
      "  (0): Dropout(p=0.2, inplace=True)\n",
      "  (1): Linear(in_features=1280, out_features=1000, bias=True)\n",
      ")\n"
     ]
    }
   ],
   "source": [
    "from model import *\n",
    "from torchsummary import summary\n",
    "from torchvision.models import efficientnet_b0\n",
    "from torch.utils.data import DataLoader\n",
    "from datasets import *\n",
    "from torch.optim import lr_scheduler\n",
    "from torchvision import transforms, datasets\n",
    "import time\n",
    "from torchvision.transforms import InterpolationMode"
   ]
  },
  {
   "attachments": {},
   "cell_type": "markdown",
   "metadata": {},
   "source": [
    "# Import model"
   ]
  },
  {
   "cell_type": "code",
   "execution_count": 2,
   "metadata": {},
   "outputs": [
    {
     "name": "stderr",
     "output_type": "stream",
     "text": [
      "c:\\Users\\hoang\\anaconda3\\envs\\edabk_violence_env\\lib\\site-packages\\torchvision\\models\\_utils.py:208: UserWarning: The parameter 'pretrained' is deprecated since 0.13 and may be removed in the future, please use 'weights' instead.\n",
      "  warnings.warn(\n",
      "c:\\Users\\hoang\\anaconda3\\envs\\edabk_violence_env\\lib\\site-packages\\torchvision\\models\\_utils.py:223: UserWarning: Arguments other than a weight enum or `None` for 'weights' are deprecated since 0.13 and may be removed in the future. The current behavior is equivalent to passing `weights=EfficientNet_B0_Weights.IMAGENET1K_V1`. You can also use `weights=EfficientNet_B0_Weights.DEFAULT` to get the most up-to-date weights.\n",
      "  warnings.warn(msg)\n"
     ]
    },
    {
     "name": "stdout",
     "output_type": "stream",
     "text": [
      "----------------------------------------------------------------\n",
      "        Layer (type)               Output Shape         Param #\n",
      "================================================================\n",
      "            Conv2d-1          [-1, 3, 224, 224]           1,218\n",
      "            Conv2d-2         [-1, 32, 112, 112]             864\n",
      "       BatchNorm2d-3         [-1, 32, 112, 112]              64\n",
      "              SiLU-4         [-1, 32, 112, 112]               0\n",
      "            Conv2d-5         [-1, 32, 112, 112]             288\n",
      "       BatchNorm2d-6         [-1, 32, 112, 112]              64\n",
      "              SiLU-7         [-1, 32, 112, 112]               0\n",
      " AdaptiveAvgPool2d-8             [-1, 32, 1, 1]               0\n",
      "            Conv2d-9              [-1, 8, 1, 1]             264\n",
      "             SiLU-10              [-1, 8, 1, 1]               0\n",
      "           Conv2d-11             [-1, 32, 1, 1]             288\n",
      "          Sigmoid-12             [-1, 32, 1, 1]               0\n",
      "SqueezeExcitation-13         [-1, 32, 112, 112]               0\n",
      "           Conv2d-14         [-1, 16, 112, 112]             512\n",
      "      BatchNorm2d-15         [-1, 16, 112, 112]              32\n",
      "           MBConv-16         [-1, 16, 112, 112]               0\n",
      "           Conv2d-17         [-1, 96, 112, 112]           1,536\n",
      "      BatchNorm2d-18         [-1, 96, 112, 112]             192\n",
      "             SiLU-19         [-1, 96, 112, 112]               0\n",
      "           Conv2d-20           [-1, 96, 56, 56]             864\n",
      "      BatchNorm2d-21           [-1, 96, 56, 56]             192\n",
      "             SiLU-22           [-1, 96, 56, 56]               0\n",
      "AdaptiveAvgPool2d-23             [-1, 96, 1, 1]               0\n",
      "           Conv2d-24              [-1, 4, 1, 1]             388\n",
      "             SiLU-25              [-1, 4, 1, 1]               0\n",
      "           Conv2d-26             [-1, 96, 1, 1]             480\n",
      "          Sigmoid-27             [-1, 96, 1, 1]               0\n",
      "SqueezeExcitation-28           [-1, 96, 56, 56]               0\n",
      "           Conv2d-29           [-1, 24, 56, 56]           2,304\n",
      "      BatchNorm2d-30           [-1, 24, 56, 56]              48\n",
      "           MBConv-31           [-1, 24, 56, 56]               0\n",
      "           Conv2d-32          [-1, 144, 56, 56]           3,456\n",
      "      BatchNorm2d-33          [-1, 144, 56, 56]             288\n",
      "             SiLU-34          [-1, 144, 56, 56]               0\n",
      "           Conv2d-35          [-1, 144, 56, 56]           1,296\n",
      "      BatchNorm2d-36          [-1, 144, 56, 56]             288\n",
      "             SiLU-37          [-1, 144, 56, 56]               0\n",
      "AdaptiveAvgPool2d-38            [-1, 144, 1, 1]               0\n",
      "           Conv2d-39              [-1, 6, 1, 1]             870\n",
      "             SiLU-40              [-1, 6, 1, 1]               0\n",
      "           Conv2d-41            [-1, 144, 1, 1]           1,008\n",
      "          Sigmoid-42            [-1, 144, 1, 1]               0\n",
      "SqueezeExcitation-43          [-1, 144, 56, 56]               0\n",
      "           Conv2d-44           [-1, 24, 56, 56]           3,456\n",
      "      BatchNorm2d-45           [-1, 24, 56, 56]              48\n",
      "  StochasticDepth-46           [-1, 24, 56, 56]               0\n",
      "           MBConv-47           [-1, 24, 56, 56]               0\n",
      "           Conv2d-48          [-1, 144, 56, 56]           3,456\n",
      "      BatchNorm2d-49          [-1, 144, 56, 56]             288\n",
      "             SiLU-50          [-1, 144, 56, 56]               0\n",
      "           Conv2d-51          [-1, 144, 28, 28]           3,600\n",
      "      BatchNorm2d-52          [-1, 144, 28, 28]             288\n",
      "             SiLU-53          [-1, 144, 28, 28]               0\n",
      "AdaptiveAvgPool2d-54            [-1, 144, 1, 1]               0\n",
      "           Conv2d-55              [-1, 6, 1, 1]             870\n",
      "             SiLU-56              [-1, 6, 1, 1]               0\n",
      "           Conv2d-57            [-1, 144, 1, 1]           1,008\n",
      "          Sigmoid-58            [-1, 144, 1, 1]               0\n",
      "SqueezeExcitation-59          [-1, 144, 28, 28]               0\n",
      "           Conv2d-60           [-1, 40, 28, 28]           5,760\n",
      "      BatchNorm2d-61           [-1, 40, 28, 28]              80\n",
      "           MBConv-62           [-1, 40, 28, 28]               0\n",
      "           Conv2d-63          [-1, 240, 28, 28]           9,600\n",
      "      BatchNorm2d-64          [-1, 240, 28, 28]             480\n",
      "             SiLU-65          [-1, 240, 28, 28]               0\n",
      "           Conv2d-66          [-1, 240, 28, 28]           6,000\n",
      "      BatchNorm2d-67          [-1, 240, 28, 28]             480\n",
      "             SiLU-68          [-1, 240, 28, 28]               0\n",
      "AdaptiveAvgPool2d-69            [-1, 240, 1, 1]               0\n",
      "           Conv2d-70             [-1, 10, 1, 1]           2,410\n",
      "             SiLU-71             [-1, 10, 1, 1]               0\n",
      "           Conv2d-72            [-1, 240, 1, 1]           2,640\n",
      "          Sigmoid-73            [-1, 240, 1, 1]               0\n",
      "SqueezeExcitation-74          [-1, 240, 28, 28]               0\n",
      "           Conv2d-75           [-1, 40, 28, 28]           9,600\n",
      "      BatchNorm2d-76           [-1, 40, 28, 28]              80\n",
      "  StochasticDepth-77           [-1, 40, 28, 28]               0\n",
      "           MBConv-78           [-1, 40, 28, 28]               0\n",
      "           Conv2d-79          [-1, 240, 28, 28]           9,600\n",
      "      BatchNorm2d-80          [-1, 240, 28, 28]             480\n",
      "             SiLU-81          [-1, 240, 28, 28]               0\n",
      "           Conv2d-82          [-1, 240, 14, 14]           2,160\n",
      "      BatchNorm2d-83          [-1, 240, 14, 14]             480\n",
      "             SiLU-84          [-1, 240, 14, 14]               0\n",
      "AdaptiveAvgPool2d-85            [-1, 240, 1, 1]               0\n",
      "           Conv2d-86             [-1, 10, 1, 1]           2,410\n",
      "             SiLU-87             [-1, 10, 1, 1]               0\n",
      "           Conv2d-88            [-1, 240, 1, 1]           2,640\n",
      "          Sigmoid-89            [-1, 240, 1, 1]               0\n",
      "SqueezeExcitation-90          [-1, 240, 14, 14]               0\n",
      "           Conv2d-91           [-1, 80, 14, 14]          19,200\n",
      "      BatchNorm2d-92           [-1, 80, 14, 14]             160\n",
      "           MBConv-93           [-1, 80, 14, 14]               0\n",
      "           Conv2d-94          [-1, 480, 14, 14]          38,400\n",
      "      BatchNorm2d-95          [-1, 480, 14, 14]             960\n",
      "             SiLU-96          [-1, 480, 14, 14]               0\n",
      "           Conv2d-97          [-1, 480, 14, 14]           4,320\n",
      "      BatchNorm2d-98          [-1, 480, 14, 14]             960\n",
      "             SiLU-99          [-1, 480, 14, 14]               0\n",
      "AdaptiveAvgPool2d-100            [-1, 480, 1, 1]               0\n",
      "          Conv2d-101             [-1, 20, 1, 1]           9,620\n",
      "            SiLU-102             [-1, 20, 1, 1]               0\n",
      "          Conv2d-103            [-1, 480, 1, 1]          10,080\n",
      "         Sigmoid-104            [-1, 480, 1, 1]               0\n",
      "SqueezeExcitation-105          [-1, 480, 14, 14]               0\n",
      "          Conv2d-106           [-1, 80, 14, 14]          38,400\n",
      "     BatchNorm2d-107           [-1, 80, 14, 14]             160\n",
      " StochasticDepth-108           [-1, 80, 14, 14]               0\n",
      "          MBConv-109           [-1, 80, 14, 14]               0\n",
      "          Conv2d-110          [-1, 480, 14, 14]          38,400\n",
      "     BatchNorm2d-111          [-1, 480, 14, 14]             960\n",
      "            SiLU-112          [-1, 480, 14, 14]               0\n",
      "          Conv2d-113          [-1, 480, 14, 14]           4,320\n",
      "     BatchNorm2d-114          [-1, 480, 14, 14]             960\n",
      "            SiLU-115          [-1, 480, 14, 14]               0\n",
      "AdaptiveAvgPool2d-116            [-1, 480, 1, 1]               0\n",
      "          Conv2d-117             [-1, 20, 1, 1]           9,620\n",
      "            SiLU-118             [-1, 20, 1, 1]               0\n",
      "          Conv2d-119            [-1, 480, 1, 1]          10,080\n",
      "         Sigmoid-120            [-1, 480, 1, 1]               0\n",
      "SqueezeExcitation-121          [-1, 480, 14, 14]               0\n",
      "          Conv2d-122           [-1, 80, 14, 14]          38,400\n",
      "     BatchNorm2d-123           [-1, 80, 14, 14]             160\n",
      " StochasticDepth-124           [-1, 80, 14, 14]               0\n",
      "          MBConv-125           [-1, 80, 14, 14]               0\n",
      "          Conv2d-126          [-1, 480, 14, 14]          38,400\n",
      "     BatchNorm2d-127          [-1, 480, 14, 14]             960\n",
      "            SiLU-128          [-1, 480, 14, 14]               0\n",
      "          Conv2d-129          [-1, 480, 14, 14]          12,000\n",
      "     BatchNorm2d-130          [-1, 480, 14, 14]             960\n",
      "            SiLU-131          [-1, 480, 14, 14]               0\n",
      "AdaptiveAvgPool2d-132            [-1, 480, 1, 1]               0\n",
      "          Conv2d-133             [-1, 20, 1, 1]           9,620\n",
      "            SiLU-134             [-1, 20, 1, 1]               0\n",
      "          Conv2d-135            [-1, 480, 1, 1]          10,080\n",
      "         Sigmoid-136            [-1, 480, 1, 1]               0\n",
      "SqueezeExcitation-137          [-1, 480, 14, 14]               0\n",
      "          Conv2d-138          [-1, 112, 14, 14]          53,760\n",
      "     BatchNorm2d-139          [-1, 112, 14, 14]             224\n",
      "          MBConv-140          [-1, 112, 14, 14]               0\n",
      "          Conv2d-141          [-1, 672, 14, 14]          75,264\n",
      "     BatchNorm2d-142          [-1, 672, 14, 14]           1,344\n",
      "            SiLU-143          [-1, 672, 14, 14]               0\n",
      "          Conv2d-144          [-1, 672, 14, 14]          16,800\n",
      "     BatchNorm2d-145          [-1, 672, 14, 14]           1,344\n",
      "            SiLU-146          [-1, 672, 14, 14]               0\n",
      "AdaptiveAvgPool2d-147            [-1, 672, 1, 1]               0\n",
      "          Conv2d-148             [-1, 28, 1, 1]          18,844\n",
      "            SiLU-149             [-1, 28, 1, 1]               0\n",
      "          Conv2d-150            [-1, 672, 1, 1]          19,488\n",
      "         Sigmoid-151            [-1, 672, 1, 1]               0\n",
      "SqueezeExcitation-152          [-1, 672, 14, 14]               0\n",
      "          Conv2d-153          [-1, 112, 14, 14]          75,264\n",
      "     BatchNorm2d-154          [-1, 112, 14, 14]             224\n",
      " StochasticDepth-155          [-1, 112, 14, 14]               0\n",
      "          MBConv-156          [-1, 112, 14, 14]               0\n",
      "          Conv2d-157          [-1, 672, 14, 14]          75,264\n",
      "     BatchNorm2d-158          [-1, 672, 14, 14]           1,344\n",
      "            SiLU-159          [-1, 672, 14, 14]               0\n",
      "          Conv2d-160          [-1, 672, 14, 14]          16,800\n",
      "     BatchNorm2d-161          [-1, 672, 14, 14]           1,344\n",
      "            SiLU-162          [-1, 672, 14, 14]               0\n",
      "AdaptiveAvgPool2d-163            [-1, 672, 1, 1]               0\n",
      "          Conv2d-164             [-1, 28, 1, 1]          18,844\n",
      "            SiLU-165             [-1, 28, 1, 1]               0\n",
      "          Conv2d-166            [-1, 672, 1, 1]          19,488\n",
      "         Sigmoid-167            [-1, 672, 1, 1]               0\n",
      "SqueezeExcitation-168          [-1, 672, 14, 14]               0\n",
      "          Conv2d-169          [-1, 112, 14, 14]          75,264\n",
      "     BatchNorm2d-170          [-1, 112, 14, 14]             224\n",
      " StochasticDepth-171          [-1, 112, 14, 14]               0\n",
      "          MBConv-172          [-1, 112, 14, 14]               0\n",
      "          Conv2d-173          [-1, 672, 14, 14]          75,264\n",
      "     BatchNorm2d-174          [-1, 672, 14, 14]           1,344\n",
      "            SiLU-175          [-1, 672, 14, 14]               0\n",
      "          Conv2d-176            [-1, 672, 7, 7]          16,800\n",
      "     BatchNorm2d-177            [-1, 672, 7, 7]           1,344\n",
      "            SiLU-178            [-1, 672, 7, 7]               0\n",
      "AdaptiveAvgPool2d-179            [-1, 672, 1, 1]               0\n",
      "          Conv2d-180             [-1, 28, 1, 1]          18,844\n",
      "            SiLU-181             [-1, 28, 1, 1]               0\n",
      "          Conv2d-182            [-1, 672, 1, 1]          19,488\n",
      "         Sigmoid-183            [-1, 672, 1, 1]               0\n",
      "SqueezeExcitation-184            [-1, 672, 7, 7]               0\n",
      "          Conv2d-185            [-1, 192, 7, 7]         129,024\n",
      "     BatchNorm2d-186            [-1, 192, 7, 7]             384\n",
      "          MBConv-187            [-1, 192, 7, 7]               0\n",
      "          Conv2d-188           [-1, 1152, 7, 7]         221,184\n",
      "     BatchNorm2d-189           [-1, 1152, 7, 7]           2,304\n",
      "            SiLU-190           [-1, 1152, 7, 7]               0\n",
      "          Conv2d-191           [-1, 1152, 7, 7]          28,800\n",
      "     BatchNorm2d-192           [-1, 1152, 7, 7]           2,304\n",
      "            SiLU-193           [-1, 1152, 7, 7]               0\n",
      "AdaptiveAvgPool2d-194           [-1, 1152, 1, 1]               0\n",
      "          Conv2d-195             [-1, 48, 1, 1]          55,344\n",
      "            SiLU-196             [-1, 48, 1, 1]               0\n",
      "          Conv2d-197           [-1, 1152, 1, 1]          56,448\n",
      "         Sigmoid-198           [-1, 1152, 1, 1]               0\n",
      "SqueezeExcitation-199           [-1, 1152, 7, 7]               0\n",
      "          Conv2d-200            [-1, 192, 7, 7]         221,184\n",
      "     BatchNorm2d-201            [-1, 192, 7, 7]             384\n",
      " StochasticDepth-202            [-1, 192, 7, 7]               0\n",
      "          MBConv-203            [-1, 192, 7, 7]               0\n",
      "          Conv2d-204           [-1, 1152, 7, 7]         221,184\n",
      "     BatchNorm2d-205           [-1, 1152, 7, 7]           2,304\n",
      "            SiLU-206           [-1, 1152, 7, 7]               0\n",
      "          Conv2d-207           [-1, 1152, 7, 7]          28,800\n",
      "     BatchNorm2d-208           [-1, 1152, 7, 7]           2,304\n",
      "            SiLU-209           [-1, 1152, 7, 7]               0\n",
      "AdaptiveAvgPool2d-210           [-1, 1152, 1, 1]               0\n",
      "          Conv2d-211             [-1, 48, 1, 1]          55,344\n",
      "            SiLU-212             [-1, 48, 1, 1]               0\n",
      "          Conv2d-213           [-1, 1152, 1, 1]          56,448\n",
      "         Sigmoid-214           [-1, 1152, 1, 1]               0\n",
      "SqueezeExcitation-215           [-1, 1152, 7, 7]               0\n",
      "          Conv2d-216            [-1, 192, 7, 7]         221,184\n",
      "     BatchNorm2d-217            [-1, 192, 7, 7]             384\n",
      " StochasticDepth-218            [-1, 192, 7, 7]               0\n",
      "          MBConv-219            [-1, 192, 7, 7]               0\n",
      "          Conv2d-220           [-1, 1152, 7, 7]         221,184\n",
      "     BatchNorm2d-221           [-1, 1152, 7, 7]           2,304\n",
      "            SiLU-222           [-1, 1152, 7, 7]               0\n",
      "          Conv2d-223           [-1, 1152, 7, 7]          28,800\n",
      "     BatchNorm2d-224           [-1, 1152, 7, 7]           2,304\n",
      "            SiLU-225           [-1, 1152, 7, 7]               0\n",
      "AdaptiveAvgPool2d-226           [-1, 1152, 1, 1]               0\n",
      "          Conv2d-227             [-1, 48, 1, 1]          55,344\n",
      "            SiLU-228             [-1, 48, 1, 1]               0\n",
      "          Conv2d-229           [-1, 1152, 1, 1]          56,448\n",
      "         Sigmoid-230           [-1, 1152, 1, 1]               0\n",
      "SqueezeExcitation-231           [-1, 1152, 7, 7]               0\n",
      "          Conv2d-232            [-1, 192, 7, 7]         221,184\n",
      "     BatchNorm2d-233            [-1, 192, 7, 7]             384\n",
      " StochasticDepth-234            [-1, 192, 7, 7]               0\n",
      "          MBConv-235            [-1, 192, 7, 7]               0\n",
      "          Conv2d-236           [-1, 1152, 7, 7]         221,184\n",
      "     BatchNorm2d-237           [-1, 1152, 7, 7]           2,304\n",
      "            SiLU-238           [-1, 1152, 7, 7]               0\n",
      "          Conv2d-239           [-1, 1152, 7, 7]          10,368\n",
      "     BatchNorm2d-240           [-1, 1152, 7, 7]           2,304\n",
      "            SiLU-241           [-1, 1152, 7, 7]               0\n",
      "AdaptiveAvgPool2d-242           [-1, 1152, 1, 1]               0\n",
      "          Conv2d-243             [-1, 48, 1, 1]          55,344\n",
      "            SiLU-244             [-1, 48, 1, 1]               0\n",
      "          Conv2d-245           [-1, 1152, 1, 1]          56,448\n",
      "         Sigmoid-246           [-1, 1152, 1, 1]               0\n",
      "SqueezeExcitation-247           [-1, 1152, 7, 7]               0\n",
      "          Conv2d-248            [-1, 320, 7, 7]         368,640\n",
      "     BatchNorm2d-249            [-1, 320, 7, 7]             640\n",
      "          MBConv-250            [-1, 320, 7, 7]               0\n",
      "          Conv2d-251           [-1, 1280, 7, 7]         409,600\n",
      "     BatchNorm2d-252           [-1, 1280, 7, 7]           2,560\n",
      "            SiLU-253           [-1, 1280, 7, 7]               0\n",
      "AdaptiveAvgPool2d-254           [-1, 1280, 1, 1]               0\n",
      "         Dropout-255                 [-1, 1280]               0\n",
      "          Linear-256                  [-1, 640]         819,840\n",
      "          Linear-257                    [-1, 3]           1,923\n",
      "    EfficientNet-258                    [-1, 3]               0\n",
      "================================================================\n",
      "Total params: 4,830,529\n",
      "Trainable params: 822,981\n",
      "Non-trainable params: 4,007,548\n",
      "----------------------------------------------------------------\n",
      "Input size (MB): 8.61\n",
      "Forward/backward pass size (MB): 174.80\n",
      "Params size (MB): 18.43\n",
      "Estimated Total Size (MB): 201.84\n",
      "----------------------------------------------------------------\n"
     ]
    }
   ],
   "source": [
    "model = ViolenceEfficientNet()\n",
    "\n",
    "summary(model, (45, 224, 224))"
   ]
  },
  {
   "attachments": {},
   "cell_type": "markdown",
   "metadata": {},
   "source": [
    "# Constants"
   ]
  },
  {
   "cell_type": "code",
   "execution_count": 3,
   "metadata": {},
   "outputs": [],
   "source": [
    "ROOT_DIR = \"../../data\"\n",
    "\n",
    "device = torch.device(\"cuda\" if torch.cuda.is_available() else \"cpu\")\n",
    "\n",
    "IMG_SIZE = (224, 224)"
   ]
  },
  {
   "attachments": {},
   "cell_type": "markdown",
   "metadata": {},
   "source": [
    "# Hyperparameters"
   ]
  },
  {
   "cell_type": "code",
   "execution_count": 4,
   "metadata": {},
   "outputs": [],
   "source": [
    "epochs = 10\n",
    "batch_size = 4\n",
    "\n",
    "learning_rate = 1e-3\n"
   ]
  },
  {
   "attachments": {},
   "cell_type": "markdown",
   "metadata": {},
   "source": [
    "# Preparing dataset"
   ]
  },
  {
   "cell_type": "code",
   "execution_count": 5,
   "metadata": {},
   "outputs": [
    {
     "name": "stdout",
     "output_type": "stream",
     "text": [
      "Found empty or not enough images in seq folder, remove folder 2022_12_18_1671298532302602\n",
      "Found empty or not enough images in seq folder, remove folder 2022_12_18_1671298657292724\n"
     ]
    }
   ],
   "source": [
    "splitDataset(train_ratio=0.8, dataset_root=ROOT_DIR)"
   ]
  },
  {
   "attachments": {},
   "cell_type": "markdown",
   "metadata": {},
   "source": [
    "### Standardlize process"
   ]
  },
  {
   "cell_type": "code",
   "execution_count": 6,
   "metadata": {},
   "outputs": [
    {
     "name": "stdout",
     "output_type": "stream",
     "text": [
      "Calculating ...\n"
     ]
    },
    {
     "data": {
      "text/plain": [
       "(array([0.51551778, 0.43288471, 0.44265668]),\n",
       " array([0.19281362, 0.1960019 , 0.20439348]))"
      ]
     },
     "execution_count": 6,
     "metadata": {},
     "output_type": "execute_result"
    }
   ],
   "source": [
    "def CalcStdVsMean():\n",
    "    listImgs = []\n",
    "    print(\"Calculating ...\")\n",
    "    for folder in os.listdir(ROOT_DIR):\n",
    "        if folder != \"dataset_info.csv\":\n",
    "            for fileName in os.listdir(f\"{ROOT_DIR}/{folder}\"):\n",
    "                img = cv2.imread(f\"{ROOT_DIR}/{folder}/{fileName}\")\n",
    "                listImgs.append(cv2.resize(img, IMG_SIZE, interpolation = cv2.INTER_AREA))\n",
    "    listImgs = np.array(listImgs)\n",
    "    return (listImgs/255.0).mean((0, 1, 2)), (listImgs /255.0).std((0,1,2))\n",
    "\n",
    "MEAN, STD = CalcStdVsMean()\n",
    "\n",
    "MEAN, STD"
   ]
  },
  {
   "attachments": {},
   "cell_type": "markdown",
   "metadata": {},
   "source": [
    "Can take MEAN, STD approximately as [0.5, 0.4, 0.4, 0.4], [0.19, 0.196, 0.2]\n",
    "\n",
    "With the case using 45 channels => MEAN = MEAN *15, STD = STD *15"
   ]
  },
  {
   "cell_type": "code",
   "execution_count": 7,
   "metadata": {},
   "outputs": [],
   "source": [
    "# MEAN, STD = list(MEAN), list(STD)\n",
    "\n",
    "# MEAN = [MEAN[0], MEAN[1], [MEAN[2]]*15]\n",
    "# STD = [STD[0], STD[1], [STD[2]]*15]\n",
    "\n",
    "# MEAN, STD\n",
    "\n",
    "MEAN, STD = list(MEAN)*15, list(STD)*15"
   ]
  },
  {
   "cell_type": "code",
   "execution_count": 8,
   "metadata": {},
   "outputs": [
    {
     "name": "stderr",
     "output_type": "stream",
     "text": [
      "Folder [100/100]: 100%|██████████| 100/100 [00:12<00:00,  7.95folder/s]\n"
     ]
    },
    {
     "name": "stdout",
     "output_type": "stream",
     "text": [
      "Found 100 data of type Train\n"
     ]
    },
    {
     "name": "stderr",
     "output_type": "stream",
     "text": [
      "Folder [26/26]: 100%|██████████| 26/26 [00:03<00:00,  8.08folder/s]"
     ]
    },
    {
     "name": "stdout",
     "output_type": "stream",
     "text": [
      "Found 26 data of type Test\n"
     ]
    },
    {
     "name": "stderr",
     "output_type": "stream",
     "text": [
      "\n"
     ]
    }
   ],
   "source": [
    "\n",
    "data_transforms = transforms.Compose([\n",
    "    MergeChannelTransForm(),\n",
    "    transforms.ToTensor(),\n",
    "    transforms.Resize(IMG_SIZE,interpolation=InterpolationMode.BICUBIC),\n",
    "    transforms.Normalize(MEAN, STD)\n",
    "])\n",
    "\n",
    "\n",
    "train_dataset = Violence_Drone_Dataset(root_dir=ROOT_DIR,train=True, transform=data_transforms)\n",
    "test_dataset = Violence_Drone_Dataset(root_dir=ROOT_DIR,train=False, transform=data_transforms)\n",
    "\n",
    "train_loader = DataLoader(dataset=train_dataset, shuffle=True, batch_size=batch_size, drop_last=True)\n",
    "test_loader = DataLoader(dataset= test_dataset, shuffle=False, batch_size=batch_size, drop_last=False)\n",
    "\n",
    "\n"
   ]
  },
  {
   "cell_type": "code",
   "execution_count": 9,
   "metadata": {},
   "outputs": [
    {
     "name": "stdout",
     "output_type": "stream",
     "text": [
      "torch.Size([4, 45, 224, 224])\n"
     ]
    }
   ],
   "source": [
    "samples = iter(train_loader)\n",
    "\n",
    "imgs, labels = samples.__next__()\n",
    "\n",
    "print(imgs.shape)"
   ]
  },
  {
   "attachments": {},
   "cell_type": "markdown",
   "metadata": {},
   "source": [
    "# Preparing for training"
   ]
  },
  {
   "cell_type": "code",
   "execution_count": 10,
   "metadata": {},
   "outputs": [],
   "source": [
    "optimizer = torch.optim.AdamW(model.parameters(),\n",
    "                              lr=learning_rate,\n",
    "                              weight_decay=0.0005)\n",
    "\n",
    "exp_lr_scheduler = lr_scheduler.MultiStepLR(\n",
    "    optimizer,\n",
    "    milestones=[20, 40, 60, 80, 100],\n",
    "    gamma=0.2\n",
    ")\n",
    "\n",
    "criterion = nn.CrossEntropyLoss()\n",
    "\n",
    "train_loss, train_accuracy = [], []\n",
    "val_loss, val_accuracy = [], []\n"
   ]
  },
  {
   "cell_type": "code",
   "execution_count": 11,
   "metadata": {},
   "outputs": [],
   "source": [
    "def fit(model, dataloader,epoch, epochs, train=True):\n",
    "    if train:\n",
    "        model.train()\n",
    "    else:\n",
    "        model.eval() \n",
    "    \n",
    "    \n",
    "    running_loss = 0.0\n",
    "    running_correct = 0\n",
    "    n_samples = 0\n",
    "    \n",
    "    print(\"Train\" if train else \"Val\")\n",
    "    \n",
    "    with tqdm(dataloader, unit='batch') as tepoch:\n",
    "        for images, labels in tepoch:    \n",
    "            \n",
    "            tepoch.set_description(f\"Epoch [{epoch}/{epochs}]\")\n",
    "                \n",
    "            images, labels = images.to(device), labels.to(device)\n",
    "            outputs = model(images)\n",
    "            loss = criterion(outputs, labels)\n",
    "\n",
    "            running_loss += loss.item()\n",
    "            _, preds = torch.max(outputs, 1)\n",
    "            correct = (preds == labels).sum().item()\n",
    "\n",
    "            running_correct += (preds == labels).sum().item()\n",
    "\n",
    "            n_samples += labels.size(0)\n",
    "\n",
    "            if train:\n",
    "                optimizer.zero_grad()\n",
    "                loss.backward()\n",
    "                optimizer.step()\n",
    "            \n",
    "            tepoch.set_postfix(loss=loss.item()/labels.size(0), accuracy=100.*correct/labels.size(0))\n",
    "            \n",
    "        process_loss = running_loss / n_samples\n",
    "        process_acc = 100. * running_correct / n_samples\n",
    "    \n",
    "    return process_loss, process_acc\n",
    "                "
   ]
  },
  {
   "cell_type": "code",
   "execution_count": 12,
   "metadata": {},
   "outputs": [
    {
     "name": "stdout",
     "output_type": "stream",
     "text": [
      "tensor([0, 0, 0, 0])\n",
      "tensor([0, 0, 0, 0])\n",
      "tensor([0, 0, 0, 0])\n",
      "tensor([0, 0, 0, 0])\n",
      "tensor([0, 0, 0, 0])\n",
      "tensor([0, 0, 0, 0])\n",
      "tensor([0, 0, 0, 0])\n",
      "tensor([0, 0, 0, 0])\n",
      "tensor([0, 0, 0, 0])\n",
      "tensor([0, 0, 0, 0])\n",
      "tensor([0, 0, 0, 0])\n",
      "tensor([0, 0, 0, 0])\n",
      "tensor([0, 0, 0, 0])\n",
      "tensor([0, 0, 0, 0])\n",
      "tensor([0, 0, 0, 0])\n",
      "tensor([0, 0, 0, 0])\n",
      "tensor([0, 0, 0, 0])\n",
      "tensor([0, 0, 0, 0])\n",
      "tensor([0, 0, 0, 0])\n",
      "tensor([0, 0, 0, 0])\n",
      "tensor([0, 0, 0, 0])\n",
      "tensor([0, 0, 0, 0])\n",
      "tensor([0, 0, 0, 0])\n",
      "tensor([0, 0, 0, 0])\n",
      "tensor([0, 0, 0, 0])\n"
     ]
    }
   ],
   "source": [
    "for images, labels in train_loader:\n",
    "    print(labels)"
   ]
  },
  {
   "attachments": {},
   "cell_type": "markdown",
   "metadata": {},
   "source": [
    "# Training and evaluating"
   ]
  },
  {
   "cell_type": "code",
   "execution_count": 14,
   "metadata": {},
   "outputs": [
    {
     "name": "stdout",
     "output_type": "stream",
     "text": [
      "Train\n"
     ]
    },
    {
     "name": "stderr",
     "output_type": "stream",
     "text": [
      "Epoch [0/10]: 100%|██████████| 25/25 [01:04<00:00,  2.57s/batch, accuracy=100, loss=0]      \n"
     ]
    },
    {
     "name": "stdout",
     "output_type": "stream",
     "text": [
      "Val\n"
     ]
    },
    {
     "name": "stderr",
     "output_type": "stream",
     "text": [
      "Epoch [0/10]: 100%|██████████| 7/7 [00:05<00:00,  1.28batch/s, accuracy=100, loss=0]      \n"
     ]
    },
    {
     "name": "stdout",
     "output_type": "stream",
     "text": [
      "Train\n"
     ]
    },
    {
     "name": "stderr",
     "output_type": "stream",
     "text": [
      "Epoch [1/10]: 100%|██████████| 25/25 [00:37<00:00,  1.51s/batch, accuracy=100, loss=0]      \n"
     ]
    },
    {
     "name": "stdout",
     "output_type": "stream",
     "text": [
      "Val\n"
     ]
    },
    {
     "name": "stderr",
     "output_type": "stream",
     "text": [
      "Epoch [1/10]: 100%|██████████| 7/7 [00:05<00:00,  1.31batch/s, accuracy=100, loss=0]      \n"
     ]
    },
    {
     "name": "stdout",
     "output_type": "stream",
     "text": [
      "Train\n"
     ]
    },
    {
     "name": "stderr",
     "output_type": "stream",
     "text": [
      "Epoch [2/10]: 100%|██████████| 25/25 [00:38<00:00,  1.55s/batch, accuracy=100, loss=0]      \n"
     ]
    },
    {
     "name": "stdout",
     "output_type": "stream",
     "text": [
      "Val\n"
     ]
    },
    {
     "name": "stderr",
     "output_type": "stream",
     "text": [
      "Epoch [2/10]: 100%|██████████| 7/7 [00:04<00:00,  1.46batch/s, accuracy=100, loss=0]      \n"
     ]
    },
    {
     "name": "stdout",
     "output_type": "stream",
     "text": [
      "Train\n"
     ]
    },
    {
     "name": "stderr",
     "output_type": "stream",
     "text": [
      "Epoch [3/10]: 100%|██████████| 25/25 [00:41<00:00,  1.64s/batch, accuracy=100, loss=0]      \n"
     ]
    },
    {
     "name": "stdout",
     "output_type": "stream",
     "text": [
      "Val\n"
     ]
    },
    {
     "name": "stderr",
     "output_type": "stream",
     "text": [
      "Epoch [3/10]: 100%|██████████| 7/7 [00:06<00:00,  1.13batch/s, accuracy=100, loss=0]      \n"
     ]
    },
    {
     "name": "stdout",
     "output_type": "stream",
     "text": [
      "Train\n"
     ]
    },
    {
     "name": "stderr",
     "output_type": "stream",
     "text": [
      "Epoch [4/10]: 100%|██████████| 25/25 [00:48<00:00,  1.92s/batch, accuracy=100, loss=1.49e-8]\n"
     ]
    },
    {
     "name": "stdout",
     "output_type": "stream",
     "text": [
      "Val\n"
     ]
    },
    {
     "name": "stderr",
     "output_type": "stream",
     "text": [
      "Epoch [4/10]: 100%|██████████| 7/7 [00:05<00:00,  1.24batch/s, accuracy=100, loss=0]      \n"
     ]
    },
    {
     "name": "stdout",
     "output_type": "stream",
     "text": [
      "Train\n"
     ]
    },
    {
     "name": "stderr",
     "output_type": "stream",
     "text": [
      "Epoch [5/10]: 100%|██████████| 25/25 [00:42<00:00,  1.68s/batch, accuracy=100, loss=0]      \n"
     ]
    },
    {
     "name": "stdout",
     "output_type": "stream",
     "text": [
      "Val\n"
     ]
    },
    {
     "name": "stderr",
     "output_type": "stream",
     "text": [
      "Epoch [5/10]: 100%|██████████| 7/7 [00:05<00:00,  1.28batch/s, accuracy=100, loss=0]      \n"
     ]
    },
    {
     "name": "stdout",
     "output_type": "stream",
     "text": [
      "Train\n"
     ]
    },
    {
     "name": "stderr",
     "output_type": "stream",
     "text": [
      "Epoch [6/10]: 100%|██████████| 25/25 [00:40<00:00,  1.63s/batch, accuracy=100, loss=2.98e-8]\n"
     ]
    },
    {
     "name": "stdout",
     "output_type": "stream",
     "text": [
      "Val\n"
     ]
    },
    {
     "name": "stderr",
     "output_type": "stream",
     "text": [
      "Epoch [6/10]: 100%|██████████| 7/7 [00:05<00:00,  1.32batch/s, accuracy=100, loss=0]      \n"
     ]
    },
    {
     "name": "stdout",
     "output_type": "stream",
     "text": [
      "Train\n"
     ]
    },
    {
     "name": "stderr",
     "output_type": "stream",
     "text": [
      "Epoch [7/10]: 100%|██████████| 25/25 [00:49<00:00,  1.97s/batch, accuracy=100, loss=0]      \n"
     ]
    },
    {
     "name": "stdout",
     "output_type": "stream",
     "text": [
      "Val\n"
     ]
    },
    {
     "name": "stderr",
     "output_type": "stream",
     "text": [
      "Epoch [7/10]: 100%|██████████| 7/7 [00:07<00:00,  1.12s/batch, accuracy=100, loss=0]      \n"
     ]
    },
    {
     "name": "stdout",
     "output_type": "stream",
     "text": [
      "Train\n"
     ]
    },
    {
     "name": "stderr",
     "output_type": "stream",
     "text": [
      "Epoch [8/10]: 100%|██████████| 25/25 [00:40<00:00,  1.64s/batch, accuracy=100, loss=0]      \n"
     ]
    },
    {
     "name": "stdout",
     "output_type": "stream",
     "text": [
      "Val\n"
     ]
    },
    {
     "name": "stderr",
     "output_type": "stream",
     "text": [
      "Epoch [8/10]: 100%|██████████| 7/7 [00:03<00:00,  1.80batch/s, accuracy=100, loss=0]      \n"
     ]
    },
    {
     "name": "stdout",
     "output_type": "stream",
     "text": [
      "Train\n"
     ]
    },
    {
     "name": "stderr",
     "output_type": "stream",
     "text": [
      "Epoch [9/10]: 100%|██████████| 25/25 [00:38<00:00,  1.53s/batch, accuracy=100, loss=0]      \n"
     ]
    },
    {
     "name": "stdout",
     "output_type": "stream",
     "text": [
      "Val\n"
     ]
    },
    {
     "name": "stderr",
     "output_type": "stream",
     "text": [
      "Epoch [9/10]: 100%|██████████| 7/7 [00:05<00:00,  1.31batch/s, accuracy=100, loss=0]      "
     ]
    },
    {
     "name": "stdout",
     "output_type": "stream",
     "text": [
      "8.283403364817302 minutes\n",
      "Model saved!\n"
     ]
    },
    {
     "name": "stderr",
     "output_type": "stream",
     "text": [
      "\n"
     ]
    }
   ],
   "source": [
    "model = model.to(device)\n",
    "\n",
    "start = time.time()\n",
    "\n",
    "for epoch in range(epochs):\n",
    "    \n",
    "    train_epoch_loss, train_epoch_acc = fit(model, train_loader, epoch, epochs)\n",
    "    exp_lr_scheduler.step()\n",
    "    \n",
    "    val_epoch_loss, val_epoch_acc = fit(model, test_loader, epoch, epochs, train=False)\n",
    "    \n",
    "    train_loss.append(train_epoch_loss)\n",
    "    train_accuracy.append(train_epoch_acc)\n",
    "    \n",
    "    val_loss.append(val_epoch_loss)\n",
    "    val_accuracy.append(val_epoch_acc)\n",
    "\n",
    "end = time.time()\n",
    "\n",
    "print((end-start)/60, 'minutes')\n",
    "\n",
    "torch.save(model.state_dict(), \"last_weights.pth\")\n",
    "print(\"Model saved!\")"
   ]
  }
 ],
 "metadata": {
  "kernelspec": {
   "display_name": "Python 3.9.13 ('edabk_violence_env')",
   "language": "python",
   "name": "python3"
  },
  "language_info": {
   "codemirror_mode": {
    "name": "ipython",
    "version": 3
   },
   "file_extension": ".py",
   "mimetype": "text/x-python",
   "name": "python",
   "nbconvert_exporter": "python",
   "pygments_lexer": "ipython3",
   "version": "3.9.15 (main, Nov 24 2022, 14:39:17) [MSC v.1916 64 bit (AMD64)]"
  },
  "orig_nbformat": 4,
  "vscode": {
   "interpreter": {
    "hash": "c74f6b6be8756de9f863717d8e32196f12961684d0cc972da63b5db10b46028b"
   }
  }
 },
 "nbformat": 4,
 "nbformat_minor": 2
}
